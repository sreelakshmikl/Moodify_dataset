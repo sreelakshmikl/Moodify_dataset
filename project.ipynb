{
  "cells": [
    {
      "cell_type": "markdown",
      "metadata": {
        "id": "uI1GFvXJMcEG"
      },
      "source": [
        "# Downloading Dataset from kaggle"
      ]
    },
    {
      "cell_type": "code",
      "execution_count": null,
      "metadata": {
        "colab": {
          "base_uri": "https://localhost:8080/"
        },
        "id": "l17cW17_lgzy",
        "outputId": "db86b889-fc21-4803-c189-c9d2c65a8117"
      },
      "outputs": [
        {
          "name": "stdout",
          "output_type": "stream",
          "text": [
            "Requirement already satisfied: kaggle in /usr/local/lib/python3.10/dist-packages (1.5.13)\n",
            "Requirement already satisfied: six>=1.10 in /usr/local/lib/python3.10/dist-packages (from kaggle) (1.16.0)\n",
            "Requirement already satisfied: certifi in /usr/local/lib/python3.10/dist-packages (from kaggle) (2023.5.7)\n",
            "Requirement already satisfied: python-dateutil in /usr/local/lib/python3.10/dist-packages (from kaggle) (2.8.2)\n",
            "Requirement already satisfied: requests in /usr/local/lib/python3.10/dist-packages (from kaggle) (2.27.1)\n",
            "Requirement already satisfied: tqdm in /usr/local/lib/python3.10/dist-packages (from kaggle) (4.65.0)\n",
            "Requirement already satisfied: python-slugify in /usr/local/lib/python3.10/dist-packages (from kaggle) (8.0.1)\n",
            "Requirement already satisfied: urllib3 in /usr/local/lib/python3.10/dist-packages (from kaggle) (1.26.16)\n",
            "Requirement already satisfied: text-unidecode>=1.3 in /usr/local/lib/python3.10/dist-packages (from python-slugify->kaggle) (1.3)\n",
            "Requirement already satisfied: charset-normalizer~=2.0.0 in /usr/local/lib/python3.10/dist-packages (from requests->kaggle) (2.0.12)\n",
            "Requirement already satisfied: idna<4,>=2.5 in /usr/local/lib/python3.10/dist-packages (from requests->kaggle) (3.4)\n"
          ]
        }
      ],
      "source": [
        "!pip install kaggle"
      ]
    },
    {
      "cell_type": "code",
      "execution_count": null,
      "metadata": {
        "colab": {
          "base_uri": "https://localhost:8080/"
        },
        "id": "X05Z2QLAmK_H",
        "outputId": "9b00c2c8-cd9d-4f51-8529-cd1459b9bb5d"
      },
      "outputs": [
        {
          "name": "stdout",
          "output_type": "stream",
          "text": [
            "mkdir: cannot create directory ‘/root/.kaggle’: File exists\n"
          ]
        }
      ],
      "source": [
        "!mkdir ~/.kaggle"
      ]
    },
    {
      "cell_type": "code",
      "execution_count": null,
      "metadata": {
        "id": "hia1VZtGmiDm"
      },
      "outputs": [],
      "source": [
        "!cp kaggle.json ~/.kaggle/"
      ]
    },
    {
      "cell_type": "code",
      "execution_count": null,
      "metadata": {
        "id": "jGf9FHtLnD_2"
      },
      "outputs": [],
      "source": [
        "!chmod 600  ~/.kaggle/kaggle.json"
      ]
    },
    {
      "cell_type": "code",
      "execution_count": null,
      "metadata": {
        "colab": {
          "base_uri": "https://localhost:8080/"
        },
        "id": "tKM83mbKnR9d",
        "outputId": "35d50bb7-5778-42bc-f49f-2791edabf404"
      },
      "outputs": [
        {
          "name": "stdout",
          "output_type": "stream",
          "text": [
            "Downloading moodify-dataset.zip to /content\n",
            " 94% 26.0M/27.7M [00:02<00:00, 14.6MB/s]\n",
            "100% 27.7M/27.7M [00:02<00:00, 11.0MB/s]\n"
          ]
        }
      ],
      "source": [
        "!kaggle datasets download abdullahorzan/moodify-dataset"
      ]
    },
    {
      "cell_type": "code",
      "execution_count": null,
      "metadata": {
        "colab": {
          "base_uri": "https://localhost:8080/"
        },
        "id": "t7oqLjJon1WS",
        "outputId": "2d943901-eeea-4251-f784-37463b6eaec7"
      },
      "outputs": [
        {
          "name": "stdout",
          "output_type": "stream",
          "text": [
            "Archive:  /content/moodify-dataset.zip\n",
            "  inflating: 278k_labelled_uri.csv   \n",
            "  inflating: 278k_song_labelled.csv  \n"
          ]
        }
      ],
      "source": [
        "!unzip /content/moodify-dataset.zip"
      ]
    },
    {
      "cell_type": "markdown",
      "metadata": {
        "id": "zBEGrLBXMsDF"
      },
      "source": [
        "# Importing Necessary packages and libraries"
      ]
    },
    {
      "cell_type": "code",
      "execution_count": null,
      "metadata": {
        "id": "vojVO4WpoAnD"
      },
      "outputs": [],
      "source": [
        "import pandas as pd\n",
        "import numpy as np\n",
        "import matplotlib.pyplot as plt\n",
        "import seaborn as sns\n",
        "\n",
        "import warnings\n",
        "warnings.filterwarnings('ignore')\n",
        "\n",
        "from sklearn. preprocessing import MinMaxScaler\n",
        "from sklearn.model_selection import train_test_split\n",
        "from sklearn.neighbors import KNeighborsClassifier\n",
        "from sklearn.naive_bayes import GaussianNB\n",
        "from sklearn.tree import DecisionTreeClassifier\n",
        "from xgboost import XGBClassifier\n",
        "from sklearn.metrics import classification_report,accuracy_score"
      ]
    },
    {
      "cell_type": "markdown",
      "metadata": {
        "id": "FkLAFalEM4ZY"
      },
      "source": [
        "# Importing Datasets"
      ]
    },
    {
      "cell_type": "code",
      "execution_count": null,
      "metadata": {
        "colab": {
          "base_uri": "https://localhost:8080/",
          "height": 678
        },
        "id": "dkv8BCb8pETR",
        "outputId": "8be67b28-d6d8-4bd9-b54c-5f5d83ab4b77"
      },
      "outputs": [
        {
          "data": {
            "text/html": [
              "\n",
              "  <div id=\"df-02cd95ad-96c0-4d34-853e-8d756dc3f67c\">\n",
              "    <div class=\"colab-df-container\">\n",
              "      <div>\n",
              "<style scoped>\n",
              "    .dataframe tbody tr th:only-of-type {\n",
              "        vertical-align: middle;\n",
              "    }\n",
              "\n",
              "    .dataframe tbody tr th {\n",
              "        vertical-align: top;\n",
              "    }\n",
              "\n",
              "    .dataframe thead th {\n",
              "        text-align: right;\n",
              "    }\n",
              "</style>\n",
              "<table border=\"1\" class=\"dataframe\">\n",
              "  <thead>\n",
              "    <tr style=\"text-align: right;\">\n",
              "      <th></th>\n",
              "      <th>Unnamed: 0.1</th>\n",
              "      <th>Unnamed: 0</th>\n",
              "      <th>duration (ms)</th>\n",
              "      <th>danceability</th>\n",
              "      <th>energy</th>\n",
              "      <th>loudness</th>\n",
              "      <th>speechiness</th>\n",
              "      <th>acousticness</th>\n",
              "      <th>instrumentalness</th>\n",
              "      <th>liveness</th>\n",
              "      <th>valence</th>\n",
              "      <th>tempo</th>\n",
              "      <th>spec_rate</th>\n",
              "      <th>labels</th>\n",
              "      <th>uri</th>\n",
              "    </tr>\n",
              "  </thead>\n",
              "  <tbody>\n",
              "    <tr>\n",
              "      <th>0</th>\n",
              "      <td>0</td>\n",
              "      <td>0</td>\n",
              "      <td>195000.0</td>\n",
              "      <td>0.611</td>\n",
              "      <td>0.614</td>\n",
              "      <td>-8.815</td>\n",
              "      <td>0.0672</td>\n",
              "      <td>0.01690</td>\n",
              "      <td>0.000794</td>\n",
              "      <td>0.7530</td>\n",
              "      <td>0.520</td>\n",
              "      <td>128.050</td>\n",
              "      <td>3.446154e-07</td>\n",
              "      <td>2</td>\n",
              "      <td>spotify:track:3v6sBj3swihU8pXQQHhDZo</td>\n",
              "    </tr>\n",
              "    <tr>\n",
              "      <th>1</th>\n",
              "      <td>1</td>\n",
              "      <td>1</td>\n",
              "      <td>194641.0</td>\n",
              "      <td>0.638</td>\n",
              "      <td>0.781</td>\n",
              "      <td>-6.848</td>\n",
              "      <td>0.0285</td>\n",
              "      <td>0.01180</td>\n",
              "      <td>0.009530</td>\n",
              "      <td>0.3490</td>\n",
              "      <td>0.250</td>\n",
              "      <td>122.985</td>\n",
              "      <td>1.464234e-07</td>\n",
              "      <td>1</td>\n",
              "      <td>spotify:track:7KCWmFdw0TzoJbKtqRRzJO</td>\n",
              "    </tr>\n",
              "    <tr>\n",
              "      <th>2</th>\n",
              "      <td>2</td>\n",
              "      <td>2</td>\n",
              "      <td>217573.0</td>\n",
              "      <td>0.560</td>\n",
              "      <td>0.810</td>\n",
              "      <td>-8.029</td>\n",
              "      <td>0.0872</td>\n",
              "      <td>0.00710</td>\n",
              "      <td>0.000008</td>\n",
              "      <td>0.2410</td>\n",
              "      <td>0.247</td>\n",
              "      <td>170.044</td>\n",
              "      <td>4.007850e-07</td>\n",
              "      <td>1</td>\n",
              "      <td>spotify:track:2CY92qejUrhyPUASawNVRr</td>\n",
              "    </tr>\n",
              "    <tr>\n",
              "      <th>3</th>\n",
              "      <td>3</td>\n",
              "      <td>3</td>\n",
              "      <td>443478.0</td>\n",
              "      <td>0.525</td>\n",
              "      <td>0.699</td>\n",
              "      <td>-4.571</td>\n",
              "      <td>0.0353</td>\n",
              "      <td>0.01780</td>\n",
              "      <td>0.000088</td>\n",
              "      <td>0.0888</td>\n",
              "      <td>0.199</td>\n",
              "      <td>92.011</td>\n",
              "      <td>7.959809e-08</td>\n",
              "      <td>0</td>\n",
              "      <td>spotify:track:11BPfwVbB7vok7KfjBeW4k</td>\n",
              "    </tr>\n",
              "    <tr>\n",
              "      <th>4</th>\n",
              "      <td>4</td>\n",
              "      <td>4</td>\n",
              "      <td>225862.0</td>\n",
              "      <td>0.367</td>\n",
              "      <td>0.771</td>\n",
              "      <td>-5.863</td>\n",
              "      <td>0.1060</td>\n",
              "      <td>0.36500</td>\n",
              "      <td>0.000001</td>\n",
              "      <td>0.0965</td>\n",
              "      <td>0.163</td>\n",
              "      <td>115.917</td>\n",
              "      <td>4.693131e-07</td>\n",
              "      <td>1</td>\n",
              "      <td>spotify:track:3yUJKPsjvThlcQWTS9ttYx</td>\n",
              "    </tr>\n",
              "    <tr>\n",
              "      <th>...</th>\n",
              "      <td>...</td>\n",
              "      <td>...</td>\n",
              "      <td>...</td>\n",
              "      <td>...</td>\n",
              "      <td>...</td>\n",
              "      <td>...</td>\n",
              "      <td>...</td>\n",
              "      <td>...</td>\n",
              "      <td>...</td>\n",
              "      <td>...</td>\n",
              "      <td>...</td>\n",
              "      <td>...</td>\n",
              "      <td>...</td>\n",
              "      <td>...</td>\n",
              "      <td>...</td>\n",
              "    </tr>\n",
              "    <tr>\n",
              "      <th>277933</th>\n",
              "      <td>277933</td>\n",
              "      <td>277933</td>\n",
              "      <td>276360.0</td>\n",
              "      <td>0.777</td>\n",
              "      <td>0.725</td>\n",
              "      <td>-9.012</td>\n",
              "      <td>0.0470</td>\n",
              "      <td>0.12600</td>\n",
              "      <td>0.010800</td>\n",
              "      <td>0.0917</td>\n",
              "      <td>0.851</td>\n",
              "      <td>128.349</td>\n",
              "      <td>1.700680e-07</td>\n",
              "      <td>1</td>\n",
              "      <td>spotify:track:6wLr2oR8eqUG5Beleh2Crm</td>\n",
              "    </tr>\n",
              "    <tr>\n",
              "      <th>277934</th>\n",
              "      <td>277934</td>\n",
              "      <td>277934</td>\n",
              "      <td>284773.0</td>\n",
              "      <td>0.543</td>\n",
              "      <td>0.482</td>\n",
              "      <td>-12.789</td>\n",
              "      <td>0.1940</td>\n",
              "      <td>0.08530</td>\n",
              "      <td>0.000092</td>\n",
              "      <td>0.1110</td>\n",
              "      <td>0.415</td>\n",
              "      <td>193.513</td>\n",
              "      <td>6.812444e-07</td>\n",
              "      <td>1</td>\n",
              "      <td>spotify:track:5mYtpXrZZ1bbGJYDGC8I0Y</td>\n",
              "    </tr>\n",
              "    <tr>\n",
              "      <th>277935</th>\n",
              "      <td>277935</td>\n",
              "      <td>277935</td>\n",
              "      <td>241307.0</td>\n",
              "      <td>0.527</td>\n",
              "      <td>0.942</td>\n",
              "      <td>-5.640</td>\n",
              "      <td>0.0366</td>\n",
              "      <td>0.01150</td>\n",
              "      <td>0.000000</td>\n",
              "      <td>0.1880</td>\n",
              "      <td>0.495</td>\n",
              "      <td>148.723</td>\n",
              "      <td>1.516740e-07</td>\n",
              "      <td>2</td>\n",
              "      <td>spotify:track:7FwBtcecmlpc1sLySPXeGE</td>\n",
              "    </tr>\n",
              "    <tr>\n",
              "      <th>277936</th>\n",
              "      <td>277936</td>\n",
              "      <td>277936</td>\n",
              "      <td>234333.0</td>\n",
              "      <td>0.768</td>\n",
              "      <td>0.829</td>\n",
              "      <td>-5.109</td>\n",
              "      <td>0.0313</td>\n",
              "      <td>0.09640</td>\n",
              "      <td>0.000029</td>\n",
              "      <td>0.0970</td>\n",
              "      <td>0.962</td>\n",
              "      <td>118.773</td>\n",
              "      <td>1.335706e-07</td>\n",
              "      <td>1</td>\n",
              "      <td>spotify:track:2olVm1lHicpveMAo4AUDRB</td>\n",
              "    </tr>\n",
              "    <tr>\n",
              "      <th>277937</th>\n",
              "      <td>277937</td>\n",
              "      <td>277937</td>\n",
              "      <td>241920.0</td>\n",
              "      <td>0.779</td>\n",
              "      <td>0.870</td>\n",
              "      <td>-13.141</td>\n",
              "      <td>0.0574</td>\n",
              "      <td>0.00644</td>\n",
              "      <td>0.010700</td>\n",
              "      <td>0.0399</td>\n",
              "      <td>0.555</td>\n",
              "      <td>102.689</td>\n",
              "      <td>2.372685e-07</td>\n",
              "      <td>1</td>\n",
              "      <td>spotify:track:2VNfJpwdEQBLyXajaa6LWT</td>\n",
              "    </tr>\n",
              "  </tbody>\n",
              "</table>\n",
              "<p>277938 rows × 15 columns</p>\n",
              "</div>\n",
              "      <button class=\"colab-df-convert\" onclick=\"convertToInteractive('df-02cd95ad-96c0-4d34-853e-8d756dc3f67c')\"\n",
              "              title=\"Convert this dataframe to an interactive table.\"\n",
              "              style=\"display:none;\">\n",
              "        \n",
              "  <svg xmlns=\"http://www.w3.org/2000/svg\" height=\"24px\"viewBox=\"0 0 24 24\"\n",
              "       width=\"24px\">\n",
              "    <path d=\"M0 0h24v24H0V0z\" fill=\"none\"/>\n",
              "    <path d=\"M18.56 5.44l.94 2.06.94-2.06 2.06-.94-2.06-.94-.94-2.06-.94 2.06-2.06.94zm-11 1L8.5 8.5l.94-2.06 2.06-.94-2.06-.94L8.5 2.5l-.94 2.06-2.06.94zm10 10l.94 2.06.94-2.06 2.06-.94-2.06-.94-.94-2.06-.94 2.06-2.06.94z\"/><path d=\"M17.41 7.96l-1.37-1.37c-.4-.4-.92-.59-1.43-.59-.52 0-1.04.2-1.43.59L10.3 9.45l-7.72 7.72c-.78.78-.78 2.05 0 2.83L4 21.41c.39.39.9.59 1.41.59.51 0 1.02-.2 1.41-.59l7.78-7.78 2.81-2.81c.8-.78.8-2.07 0-2.86zM5.41 20L4 18.59l7.72-7.72 1.47 1.35L5.41 20z\"/>\n",
              "  </svg>\n",
              "      </button>\n",
              "      \n",
              "  <style>\n",
              "    .colab-df-container {\n",
              "      display:flex;\n",
              "      flex-wrap:wrap;\n",
              "      gap: 12px;\n",
              "    }\n",
              "\n",
              "    .colab-df-convert {\n",
              "      background-color: #E8F0FE;\n",
              "      border: none;\n",
              "      border-radius: 50%;\n",
              "      cursor: pointer;\n",
              "      display: none;\n",
              "      fill: #1967D2;\n",
              "      height: 32px;\n",
              "      padding: 0 0 0 0;\n",
              "      width: 32px;\n",
              "    }\n",
              "\n",
              "    .colab-df-convert:hover {\n",
              "      background-color: #E2EBFA;\n",
              "      box-shadow: 0px 1px 2px rgba(60, 64, 67, 0.3), 0px 1px 3px 1px rgba(60, 64, 67, 0.15);\n",
              "      fill: #174EA6;\n",
              "    }\n",
              "\n",
              "    [theme=dark] .colab-df-convert {\n",
              "      background-color: #3B4455;\n",
              "      fill: #D2E3FC;\n",
              "    }\n",
              "\n",
              "    [theme=dark] .colab-df-convert:hover {\n",
              "      background-color: #434B5C;\n",
              "      box-shadow: 0px 1px 3px 1px rgba(0, 0, 0, 0.15);\n",
              "      filter: drop-shadow(0px 1px 2px rgba(0, 0, 0, 0.3));\n",
              "      fill: #FFFFFF;\n",
              "    }\n",
              "  </style>\n",
              "\n",
              "      <script>\n",
              "        const buttonEl =\n",
              "          document.querySelector('#df-02cd95ad-96c0-4d34-853e-8d756dc3f67c button.colab-df-convert');\n",
              "        buttonEl.style.display =\n",
              "          google.colab.kernel.accessAllowed ? 'block' : 'none';\n",
              "\n",
              "        async function convertToInteractive(key) {\n",
              "          const element = document.querySelector('#df-02cd95ad-96c0-4d34-853e-8d756dc3f67c');\n",
              "          const dataTable =\n",
              "            await google.colab.kernel.invokeFunction('convertToInteractive',\n",
              "                                                     [key], {});\n",
              "          if (!dataTable) return;\n",
              "\n",
              "          const docLinkHtml = 'Like what you see? Visit the ' +\n",
              "            '<a target=\"_blank\" href=https://colab.research.google.com/notebooks/data_table.ipynb>data table notebook</a>'\n",
              "            + ' to learn more about interactive tables.';\n",
              "          element.innerHTML = '';\n",
              "          dataTable['output_type'] = 'display_data';\n",
              "          await google.colab.output.renderOutput(dataTable, element);\n",
              "          const docLink = document.createElement('div');\n",
              "          docLink.innerHTML = docLinkHtml;\n",
              "          element.appendChild(docLink);\n",
              "        }\n",
              "      </script>\n",
              "    </div>\n",
              "  </div>\n",
              "  "
            ],
            "text/plain": [
              "        Unnamed: 0.1  Unnamed: 0  duration (ms)  danceability  energy  \\\n",
              "0                  0           0       195000.0         0.611   0.614   \n",
              "1                  1           1       194641.0         0.638   0.781   \n",
              "2                  2           2       217573.0         0.560   0.810   \n",
              "3                  3           3       443478.0         0.525   0.699   \n",
              "4                  4           4       225862.0         0.367   0.771   \n",
              "...              ...         ...            ...           ...     ...   \n",
              "277933        277933      277933       276360.0         0.777   0.725   \n",
              "277934        277934      277934       284773.0         0.543   0.482   \n",
              "277935        277935      277935       241307.0         0.527   0.942   \n",
              "277936        277936      277936       234333.0         0.768   0.829   \n",
              "277937        277937      277937       241920.0         0.779   0.870   \n",
              "\n",
              "        loudness  speechiness  acousticness  instrumentalness  liveness  \\\n",
              "0         -8.815       0.0672       0.01690          0.000794    0.7530   \n",
              "1         -6.848       0.0285       0.01180          0.009530    0.3490   \n",
              "2         -8.029       0.0872       0.00710          0.000008    0.2410   \n",
              "3         -4.571       0.0353       0.01780          0.000088    0.0888   \n",
              "4         -5.863       0.1060       0.36500          0.000001    0.0965   \n",
              "...          ...          ...           ...               ...       ...   \n",
              "277933    -9.012       0.0470       0.12600          0.010800    0.0917   \n",
              "277934   -12.789       0.1940       0.08530          0.000092    0.1110   \n",
              "277935    -5.640       0.0366       0.01150          0.000000    0.1880   \n",
              "277936    -5.109       0.0313       0.09640          0.000029    0.0970   \n",
              "277937   -13.141       0.0574       0.00644          0.010700    0.0399   \n",
              "\n",
              "        valence    tempo     spec_rate  labels  \\\n",
              "0         0.520  128.050  3.446154e-07       2   \n",
              "1         0.250  122.985  1.464234e-07       1   \n",
              "2         0.247  170.044  4.007850e-07       1   \n",
              "3         0.199   92.011  7.959809e-08       0   \n",
              "4         0.163  115.917  4.693131e-07       1   \n",
              "...         ...      ...           ...     ...   \n",
              "277933    0.851  128.349  1.700680e-07       1   \n",
              "277934    0.415  193.513  6.812444e-07       1   \n",
              "277935    0.495  148.723  1.516740e-07       2   \n",
              "277936    0.962  118.773  1.335706e-07       1   \n",
              "277937    0.555  102.689  2.372685e-07       1   \n",
              "\n",
              "                                         uri  \n",
              "0       spotify:track:3v6sBj3swihU8pXQQHhDZo  \n",
              "1       spotify:track:7KCWmFdw0TzoJbKtqRRzJO  \n",
              "2       spotify:track:2CY92qejUrhyPUASawNVRr  \n",
              "3       spotify:track:11BPfwVbB7vok7KfjBeW4k  \n",
              "4       spotify:track:3yUJKPsjvThlcQWTS9ttYx  \n",
              "...                                      ...  \n",
              "277933  spotify:track:6wLr2oR8eqUG5Beleh2Crm  \n",
              "277934  spotify:track:5mYtpXrZZ1bbGJYDGC8I0Y  \n",
              "277935  spotify:track:7FwBtcecmlpc1sLySPXeGE  \n",
              "277936  spotify:track:2olVm1lHicpveMAo4AUDRB  \n",
              "277937  spotify:track:2VNfJpwdEQBLyXajaa6LWT  \n",
              "\n",
              "[277938 rows x 15 columns]"
            ]
          },
          "execution_count": 24,
          "metadata": {},
          "output_type": "execute_result"
        }
      ],
      "source": [
        "df=pd.read_csv('/content/278k_labelled_uri.csv')\n",
        "df"
      ]
    },
    {
      "cell_type": "code",
      "execution_count": null,
      "metadata": {
        "colab": {
          "base_uri": "https://localhost:8080/",
          "height": 423
        },
        "id": "zv6-vF8tpWAq",
        "outputId": "235392d2-e503-4bd7-f2eb-21e22a4a5d42"
      },
      "outputs": [
        {
          "data": {
            "text/html": [
              "\n",
              "  <div id=\"df-7c05fca2-441b-4bf8-808d-275218afa3a9\">\n",
              "    <div class=\"colab-df-container\">\n",
              "      <div>\n",
              "<style scoped>\n",
              "    .dataframe tbody tr th:only-of-type {\n",
              "        vertical-align: middle;\n",
              "    }\n",
              "\n",
              "    .dataframe tbody tr th {\n",
              "        vertical-align: top;\n",
              "    }\n",
              "\n",
              "    .dataframe thead th {\n",
              "        text-align: right;\n",
              "    }\n",
              "</style>\n",
              "<table border=\"1\" class=\"dataframe\">\n",
              "  <thead>\n",
              "    <tr style=\"text-align: right;\">\n",
              "      <th></th>\n",
              "      <th>Unnamed: 0</th>\n",
              "      <th>duration (ms)</th>\n",
              "      <th>danceability</th>\n",
              "      <th>energy</th>\n",
              "      <th>loudness</th>\n",
              "      <th>speechiness</th>\n",
              "      <th>acousticness</th>\n",
              "      <th>instrumentalness</th>\n",
              "      <th>liveness</th>\n",
              "      <th>valence</th>\n",
              "      <th>tempo</th>\n",
              "      <th>spec_rate</th>\n",
              "      <th>labels</th>\n",
              "    </tr>\n",
              "  </thead>\n",
              "  <tbody>\n",
              "    <tr>\n",
              "      <th>0</th>\n",
              "      <td>0</td>\n",
              "      <td>195000.0</td>\n",
              "      <td>0.611</td>\n",
              "      <td>0.614</td>\n",
              "      <td>-8.815</td>\n",
              "      <td>0.0672</td>\n",
              "      <td>0.01690</td>\n",
              "      <td>0.000794</td>\n",
              "      <td>0.7530</td>\n",
              "      <td>0.520</td>\n",
              "      <td>128.050</td>\n",
              "      <td>3.446154e-07</td>\n",
              "      <td>2</td>\n",
              "    </tr>\n",
              "    <tr>\n",
              "      <th>1</th>\n",
              "      <td>1</td>\n",
              "      <td>194641.0</td>\n",
              "      <td>0.638</td>\n",
              "      <td>0.781</td>\n",
              "      <td>-6.848</td>\n",
              "      <td>0.0285</td>\n",
              "      <td>0.01180</td>\n",
              "      <td>0.009530</td>\n",
              "      <td>0.3490</td>\n",
              "      <td>0.250</td>\n",
              "      <td>122.985</td>\n",
              "      <td>1.464234e-07</td>\n",
              "      <td>1</td>\n",
              "    </tr>\n",
              "    <tr>\n",
              "      <th>2</th>\n",
              "      <td>2</td>\n",
              "      <td>217573.0</td>\n",
              "      <td>0.560</td>\n",
              "      <td>0.810</td>\n",
              "      <td>-8.029</td>\n",
              "      <td>0.0872</td>\n",
              "      <td>0.00710</td>\n",
              "      <td>0.000008</td>\n",
              "      <td>0.2410</td>\n",
              "      <td>0.247</td>\n",
              "      <td>170.044</td>\n",
              "      <td>4.007850e-07</td>\n",
              "      <td>1</td>\n",
              "    </tr>\n",
              "    <tr>\n",
              "      <th>3</th>\n",
              "      <td>3</td>\n",
              "      <td>443478.0</td>\n",
              "      <td>0.525</td>\n",
              "      <td>0.699</td>\n",
              "      <td>-4.571</td>\n",
              "      <td>0.0353</td>\n",
              "      <td>0.01780</td>\n",
              "      <td>0.000088</td>\n",
              "      <td>0.0888</td>\n",
              "      <td>0.199</td>\n",
              "      <td>92.011</td>\n",
              "      <td>7.959809e-08</td>\n",
              "      <td>0</td>\n",
              "    </tr>\n",
              "    <tr>\n",
              "      <th>4</th>\n",
              "      <td>4</td>\n",
              "      <td>225862.0</td>\n",
              "      <td>0.367</td>\n",
              "      <td>0.771</td>\n",
              "      <td>-5.863</td>\n",
              "      <td>0.1060</td>\n",
              "      <td>0.36500</td>\n",
              "      <td>0.000001</td>\n",
              "      <td>0.0965</td>\n",
              "      <td>0.163</td>\n",
              "      <td>115.917</td>\n",
              "      <td>4.693131e-07</td>\n",
              "      <td>1</td>\n",
              "    </tr>\n",
              "    <tr>\n",
              "      <th>...</th>\n",
              "      <td>...</td>\n",
              "      <td>...</td>\n",
              "      <td>...</td>\n",
              "      <td>...</td>\n",
              "      <td>...</td>\n",
              "      <td>...</td>\n",
              "      <td>...</td>\n",
              "      <td>...</td>\n",
              "      <td>...</td>\n",
              "      <td>...</td>\n",
              "      <td>...</td>\n",
              "      <td>...</td>\n",
              "      <td>...</td>\n",
              "    </tr>\n",
              "    <tr>\n",
              "      <th>277933</th>\n",
              "      <td>277933</td>\n",
              "      <td>276360.0</td>\n",
              "      <td>0.777</td>\n",
              "      <td>0.725</td>\n",
              "      <td>-9.012</td>\n",
              "      <td>0.0470</td>\n",
              "      <td>0.12600</td>\n",
              "      <td>0.010800</td>\n",
              "      <td>0.0917</td>\n",
              "      <td>0.851</td>\n",
              "      <td>128.349</td>\n",
              "      <td>1.700680e-07</td>\n",
              "      <td>1</td>\n",
              "    </tr>\n",
              "    <tr>\n",
              "      <th>277934</th>\n",
              "      <td>277934</td>\n",
              "      <td>284773.0</td>\n",
              "      <td>0.543</td>\n",
              "      <td>0.482</td>\n",
              "      <td>-12.789</td>\n",
              "      <td>0.1940</td>\n",
              "      <td>0.08530</td>\n",
              "      <td>0.000092</td>\n",
              "      <td>0.1110</td>\n",
              "      <td>0.415</td>\n",
              "      <td>193.513</td>\n",
              "      <td>6.812444e-07</td>\n",
              "      <td>1</td>\n",
              "    </tr>\n",
              "    <tr>\n",
              "      <th>277935</th>\n",
              "      <td>277935</td>\n",
              "      <td>241307.0</td>\n",
              "      <td>0.527</td>\n",
              "      <td>0.942</td>\n",
              "      <td>-5.640</td>\n",
              "      <td>0.0366</td>\n",
              "      <td>0.01150</td>\n",
              "      <td>0.000000</td>\n",
              "      <td>0.1880</td>\n",
              "      <td>0.495</td>\n",
              "      <td>148.723</td>\n",
              "      <td>1.516740e-07</td>\n",
              "      <td>2</td>\n",
              "    </tr>\n",
              "    <tr>\n",
              "      <th>277936</th>\n",
              "      <td>277936</td>\n",
              "      <td>234333.0</td>\n",
              "      <td>0.768</td>\n",
              "      <td>0.829</td>\n",
              "      <td>-5.109</td>\n",
              "      <td>0.0313</td>\n",
              "      <td>0.09640</td>\n",
              "      <td>0.000029</td>\n",
              "      <td>0.0970</td>\n",
              "      <td>0.962</td>\n",
              "      <td>118.773</td>\n",
              "      <td>1.335706e-07</td>\n",
              "      <td>1</td>\n",
              "    </tr>\n",
              "    <tr>\n",
              "      <th>277937</th>\n",
              "      <td>277937</td>\n",
              "      <td>241920.0</td>\n",
              "      <td>0.779</td>\n",
              "      <td>0.870</td>\n",
              "      <td>-13.141</td>\n",
              "      <td>0.0574</td>\n",
              "      <td>0.00644</td>\n",
              "      <td>0.010700</td>\n",
              "      <td>0.0399</td>\n",
              "      <td>0.555</td>\n",
              "      <td>102.689</td>\n",
              "      <td>2.372685e-07</td>\n",
              "      <td>1</td>\n",
              "    </tr>\n",
              "  </tbody>\n",
              "</table>\n",
              "<p>277938 rows × 13 columns</p>\n",
              "</div>\n",
              "      <button class=\"colab-df-convert\" onclick=\"convertToInteractive('df-7c05fca2-441b-4bf8-808d-275218afa3a9')\"\n",
              "              title=\"Convert this dataframe to an interactive table.\"\n",
              "              style=\"display:none;\">\n",
              "        \n",
              "  <svg xmlns=\"http://www.w3.org/2000/svg\" height=\"24px\"viewBox=\"0 0 24 24\"\n",
              "       width=\"24px\">\n",
              "    <path d=\"M0 0h24v24H0V0z\" fill=\"none\"/>\n",
              "    <path d=\"M18.56 5.44l.94 2.06.94-2.06 2.06-.94-2.06-.94-.94-2.06-.94 2.06-2.06.94zm-11 1L8.5 8.5l.94-2.06 2.06-.94-2.06-.94L8.5 2.5l-.94 2.06-2.06.94zm10 10l.94 2.06.94-2.06 2.06-.94-2.06-.94-.94-2.06-.94 2.06-2.06.94z\"/><path d=\"M17.41 7.96l-1.37-1.37c-.4-.4-.92-.59-1.43-.59-.52 0-1.04.2-1.43.59L10.3 9.45l-7.72 7.72c-.78.78-.78 2.05 0 2.83L4 21.41c.39.39.9.59 1.41.59.51 0 1.02-.2 1.41-.59l7.78-7.78 2.81-2.81c.8-.78.8-2.07 0-2.86zM5.41 20L4 18.59l7.72-7.72 1.47 1.35L5.41 20z\"/>\n",
              "  </svg>\n",
              "      </button>\n",
              "      \n",
              "  <style>\n",
              "    .colab-df-container {\n",
              "      display:flex;\n",
              "      flex-wrap:wrap;\n",
              "      gap: 12px;\n",
              "    }\n",
              "\n",
              "    .colab-df-convert {\n",
              "      background-color: #E8F0FE;\n",
              "      border: none;\n",
              "      border-radius: 50%;\n",
              "      cursor: pointer;\n",
              "      display: none;\n",
              "      fill: #1967D2;\n",
              "      height: 32px;\n",
              "      padding: 0 0 0 0;\n",
              "      width: 32px;\n",
              "    }\n",
              "\n",
              "    .colab-df-convert:hover {\n",
              "      background-color: #E2EBFA;\n",
              "      box-shadow: 0px 1px 2px rgba(60, 64, 67, 0.3), 0px 1px 3px 1px rgba(60, 64, 67, 0.15);\n",
              "      fill: #174EA6;\n",
              "    }\n",
              "\n",
              "    [theme=dark] .colab-df-convert {\n",
              "      background-color: #3B4455;\n",
              "      fill: #D2E3FC;\n",
              "    }\n",
              "\n",
              "    [theme=dark] .colab-df-convert:hover {\n",
              "      background-color: #434B5C;\n",
              "      box-shadow: 0px 1px 3px 1px rgba(0, 0, 0, 0.15);\n",
              "      filter: drop-shadow(0px 1px 2px rgba(0, 0, 0, 0.3));\n",
              "      fill: #FFFFFF;\n",
              "    }\n",
              "  </style>\n",
              "\n",
              "      <script>\n",
              "        const buttonEl =\n",
              "          document.querySelector('#df-7c05fca2-441b-4bf8-808d-275218afa3a9 button.colab-df-convert');\n",
              "        buttonEl.style.display =\n",
              "          google.colab.kernel.accessAllowed ? 'block' : 'none';\n",
              "\n",
              "        async function convertToInteractive(key) {\n",
              "          const element = document.querySelector('#df-7c05fca2-441b-4bf8-808d-275218afa3a9');\n",
              "          const dataTable =\n",
              "            await google.colab.kernel.invokeFunction('convertToInteractive',\n",
              "                                                     [key], {});\n",
              "          if (!dataTable) return;\n",
              "\n",
              "          const docLinkHtml = 'Like what you see? Visit the ' +\n",
              "            '<a target=\"_blank\" href=https://colab.research.google.com/notebooks/data_table.ipynb>data table notebook</a>'\n",
              "            + ' to learn more about interactive tables.';\n",
              "          element.innerHTML = '';\n",
              "          dataTable['output_type'] = 'display_data';\n",
              "          await google.colab.output.renderOutput(dataTable, element);\n",
              "          const docLink = document.createElement('div');\n",
              "          docLink.innerHTML = docLinkHtml;\n",
              "          element.appendChild(docLink);\n",
              "        }\n",
              "      </script>\n",
              "    </div>\n",
              "  </div>\n",
              "  "
            ],
            "text/plain": [
              "        Unnamed: 0  duration (ms)  danceability  energy  loudness  \\\n",
              "0                0       195000.0         0.611   0.614    -8.815   \n",
              "1                1       194641.0         0.638   0.781    -6.848   \n",
              "2                2       217573.0         0.560   0.810    -8.029   \n",
              "3                3       443478.0         0.525   0.699    -4.571   \n",
              "4                4       225862.0         0.367   0.771    -5.863   \n",
              "...            ...            ...           ...     ...       ...   \n",
              "277933      277933       276360.0         0.777   0.725    -9.012   \n",
              "277934      277934       284773.0         0.543   0.482   -12.789   \n",
              "277935      277935       241307.0         0.527   0.942    -5.640   \n",
              "277936      277936       234333.0         0.768   0.829    -5.109   \n",
              "277937      277937       241920.0         0.779   0.870   -13.141   \n",
              "\n",
              "        speechiness  acousticness  instrumentalness  liveness  valence  \\\n",
              "0            0.0672       0.01690          0.000794    0.7530    0.520   \n",
              "1            0.0285       0.01180          0.009530    0.3490    0.250   \n",
              "2            0.0872       0.00710          0.000008    0.2410    0.247   \n",
              "3            0.0353       0.01780          0.000088    0.0888    0.199   \n",
              "4            0.1060       0.36500          0.000001    0.0965    0.163   \n",
              "...             ...           ...               ...       ...      ...   \n",
              "277933       0.0470       0.12600          0.010800    0.0917    0.851   \n",
              "277934       0.1940       0.08530          0.000092    0.1110    0.415   \n",
              "277935       0.0366       0.01150          0.000000    0.1880    0.495   \n",
              "277936       0.0313       0.09640          0.000029    0.0970    0.962   \n",
              "277937       0.0574       0.00644          0.010700    0.0399    0.555   \n",
              "\n",
              "          tempo     spec_rate  labels  \n",
              "0       128.050  3.446154e-07       2  \n",
              "1       122.985  1.464234e-07       1  \n",
              "2       170.044  4.007850e-07       1  \n",
              "3        92.011  7.959809e-08       0  \n",
              "4       115.917  4.693131e-07       1  \n",
              "...         ...           ...     ...  \n",
              "277933  128.349  1.700680e-07       1  \n",
              "277934  193.513  6.812444e-07       1  \n",
              "277935  148.723  1.516740e-07       2  \n",
              "277936  118.773  1.335706e-07       1  \n",
              "277937  102.689  2.372685e-07       1  \n",
              "\n",
              "[277938 rows x 13 columns]"
            ]
          },
          "execution_count": 25,
          "metadata": {},
          "output_type": "execute_result"
        }
      ],
      "source": [
        "df1=pd.read_csv('/content/278k_song_labelled.csv')\n",
        "df1"
      ]
    },
    {
      "cell_type": "code",
      "execution_count": null,
      "metadata": {
        "colab": {
          "base_uri": "https://localhost:8080/"
        },
        "id": "bJ_AzaCxpwI-",
        "outputId": "6e41efab-41ae-46f9-eafd-1cc67bba70d9"
      },
      "outputs": [
        {
          "name": "stdout",
          "output_type": "stream",
          "text": [
            "<class 'pandas.core.frame.DataFrame'>\n",
            "RangeIndex: 277938 entries, 0 to 277937\n",
            "Data columns (total 15 columns):\n",
            " #   Column            Non-Null Count   Dtype  \n",
            "---  ------            --------------   -----  \n",
            " 0   Unnamed: 0.1      277938 non-null  int64  \n",
            " 1   Unnamed: 0        277938 non-null  int64  \n",
            " 2   duration (ms)     277938 non-null  float64\n",
            " 3   danceability      277938 non-null  float64\n",
            " 4   energy            277938 non-null  float64\n",
            " 5   loudness          277938 non-null  float64\n",
            " 6   speechiness       277938 non-null  float64\n",
            " 7   acousticness      277938 non-null  float64\n",
            " 8   instrumentalness  277938 non-null  float64\n",
            " 9   liveness          277938 non-null  float64\n",
            " 10  valence           277938 non-null  float64\n",
            " 11  tempo             277938 non-null  float64\n",
            " 12  spec_rate         277938 non-null  float64\n",
            " 13  labels            277938 non-null  int64  \n",
            " 14  uri               277938 non-null  object \n",
            "dtypes: float64(11), int64(3), object(1)\n",
            "memory usage: 31.8+ MB\n"
          ]
        }
      ],
      "source": [
        "df.info()"
      ]
    },
    {
      "cell_type": "code",
      "execution_count": null,
      "metadata": {
        "colab": {
          "base_uri": "https://localhost:8080/"
        },
        "id": "PdvdtA94p0x9",
        "outputId": "8ed1840c-abfc-4b6f-da43-c28fbf6563be"
      },
      "outputs": [
        {
          "name": "stdout",
          "output_type": "stream",
          "text": [
            "<class 'pandas.core.frame.DataFrame'>\n",
            "RangeIndex: 277938 entries, 0 to 277937\n",
            "Data columns (total 13 columns):\n",
            " #   Column            Non-Null Count   Dtype  \n",
            "---  ------            --------------   -----  \n",
            " 0   Unnamed: 0        277938 non-null  int64  \n",
            " 1   duration (ms)     277938 non-null  float64\n",
            " 2   danceability      277938 non-null  float64\n",
            " 3   energy            277938 non-null  float64\n",
            " 4   loudness          277938 non-null  float64\n",
            " 5   speechiness       277938 non-null  float64\n",
            " 6   acousticness      277938 non-null  float64\n",
            " 7   instrumentalness  277938 non-null  float64\n",
            " 8   liveness          277938 non-null  float64\n",
            " 9   valence           277938 non-null  float64\n",
            " 10  tempo             277938 non-null  float64\n",
            " 11  spec_rate         277938 non-null  float64\n",
            " 12  labels            277938 non-null  int64  \n",
            "dtypes: float64(11), int64(2)\n",
            "memory usage: 27.6 MB\n"
          ]
        }
      ],
      "source": [
        "df1.info()"
      ]
    },
    {
      "cell_type": "markdown",
      "metadata": {
        "id": "Q9zrBcrpNeSo"
      },
      "source": [
        "checking Unnamed: 0 and Unnamed: 0.1 are equal"
      ]
    },
    {
      "cell_type": "code",
      "execution_count": null,
      "metadata": {
        "colab": {
          "base_uri": "https://localhost:8080/"
        },
        "id": "R0mkuH9vqjaB",
        "outputId": "4897b569-e842-41d5-944e-9fc86ff0605f"
      },
      "outputs": [
        {
          "data": {
            "text/plain": [
              "True"
            ]
          },
          "execution_count": 28,
          "metadata": {},
          "output_type": "execute_result"
        }
      ],
      "source": [
        "chk_col=df['Unnamed: 0'].equals(df['Unnamed: 0.1'])\n",
        "chk_col"
      ]
    },
    {
      "cell_type": "code",
      "execution_count": null,
      "metadata": {
        "id": "66TWnXUjr6Zq"
      },
      "outputs": [],
      "source": [
        "#dropping Unnamed: 0 , Unnamed: 0.1 and duration (ms)\n",
        "#splitting into x and y\n",
        "\n",
        "X=df.iloc[:,3:-2]\n",
        "y=df.iloc[:,-2:-1]"
      ]
    },
    {
      "cell_type": "code",
      "execution_count": null,
      "metadata": {
        "colab": {
          "base_uri": "https://localhost:8080/",
          "height": 423
        },
        "id": "QQL-bH07sMK6",
        "outputId": "236b137f-78e6-4dec-8bd2-de2ca8fff470"
      },
      "outputs": [
        {
          "data": {
            "text/html": [
              "\n",
              "  <div id=\"df-36c9ea0f-e8f3-426f-98eb-73e840455a6b\">\n",
              "    <div class=\"colab-df-container\">\n",
              "      <div>\n",
              "<style scoped>\n",
              "    .dataframe tbody tr th:only-of-type {\n",
              "        vertical-align: middle;\n",
              "    }\n",
              "\n",
              "    .dataframe tbody tr th {\n",
              "        vertical-align: top;\n",
              "    }\n",
              "\n",
              "    .dataframe thead th {\n",
              "        text-align: right;\n",
              "    }\n",
              "</style>\n",
              "<table border=\"1\" class=\"dataframe\">\n",
              "  <thead>\n",
              "    <tr style=\"text-align: right;\">\n",
              "      <th></th>\n",
              "      <th>danceability</th>\n",
              "      <th>energy</th>\n",
              "      <th>loudness</th>\n",
              "      <th>speechiness</th>\n",
              "      <th>acousticness</th>\n",
              "      <th>instrumentalness</th>\n",
              "      <th>liveness</th>\n",
              "      <th>valence</th>\n",
              "      <th>tempo</th>\n",
              "      <th>spec_rate</th>\n",
              "    </tr>\n",
              "  </thead>\n",
              "  <tbody>\n",
              "    <tr>\n",
              "      <th>0</th>\n",
              "      <td>0.611</td>\n",
              "      <td>0.614</td>\n",
              "      <td>-8.815</td>\n",
              "      <td>0.0672</td>\n",
              "      <td>0.01690</td>\n",
              "      <td>0.000794</td>\n",
              "      <td>0.7530</td>\n",
              "      <td>0.520</td>\n",
              "      <td>128.050</td>\n",
              "      <td>3.446154e-07</td>\n",
              "    </tr>\n",
              "    <tr>\n",
              "      <th>1</th>\n",
              "      <td>0.638</td>\n",
              "      <td>0.781</td>\n",
              "      <td>-6.848</td>\n",
              "      <td>0.0285</td>\n",
              "      <td>0.01180</td>\n",
              "      <td>0.009530</td>\n",
              "      <td>0.3490</td>\n",
              "      <td>0.250</td>\n",
              "      <td>122.985</td>\n",
              "      <td>1.464234e-07</td>\n",
              "    </tr>\n",
              "    <tr>\n",
              "      <th>2</th>\n",
              "      <td>0.560</td>\n",
              "      <td>0.810</td>\n",
              "      <td>-8.029</td>\n",
              "      <td>0.0872</td>\n",
              "      <td>0.00710</td>\n",
              "      <td>0.000008</td>\n",
              "      <td>0.2410</td>\n",
              "      <td>0.247</td>\n",
              "      <td>170.044</td>\n",
              "      <td>4.007850e-07</td>\n",
              "    </tr>\n",
              "    <tr>\n",
              "      <th>3</th>\n",
              "      <td>0.525</td>\n",
              "      <td>0.699</td>\n",
              "      <td>-4.571</td>\n",
              "      <td>0.0353</td>\n",
              "      <td>0.01780</td>\n",
              "      <td>0.000088</td>\n",
              "      <td>0.0888</td>\n",
              "      <td>0.199</td>\n",
              "      <td>92.011</td>\n",
              "      <td>7.959809e-08</td>\n",
              "    </tr>\n",
              "    <tr>\n",
              "      <th>4</th>\n",
              "      <td>0.367</td>\n",
              "      <td>0.771</td>\n",
              "      <td>-5.863</td>\n",
              "      <td>0.1060</td>\n",
              "      <td>0.36500</td>\n",
              "      <td>0.000001</td>\n",
              "      <td>0.0965</td>\n",
              "      <td>0.163</td>\n",
              "      <td>115.917</td>\n",
              "      <td>4.693131e-07</td>\n",
              "    </tr>\n",
              "    <tr>\n",
              "      <th>...</th>\n",
              "      <td>...</td>\n",
              "      <td>...</td>\n",
              "      <td>...</td>\n",
              "      <td>...</td>\n",
              "      <td>...</td>\n",
              "      <td>...</td>\n",
              "      <td>...</td>\n",
              "      <td>...</td>\n",
              "      <td>...</td>\n",
              "      <td>...</td>\n",
              "    </tr>\n",
              "    <tr>\n",
              "      <th>277933</th>\n",
              "      <td>0.777</td>\n",
              "      <td>0.725</td>\n",
              "      <td>-9.012</td>\n",
              "      <td>0.0470</td>\n",
              "      <td>0.12600</td>\n",
              "      <td>0.010800</td>\n",
              "      <td>0.0917</td>\n",
              "      <td>0.851</td>\n",
              "      <td>128.349</td>\n",
              "      <td>1.700680e-07</td>\n",
              "    </tr>\n",
              "    <tr>\n",
              "      <th>277934</th>\n",
              "      <td>0.543</td>\n",
              "      <td>0.482</td>\n",
              "      <td>-12.789</td>\n",
              "      <td>0.1940</td>\n",
              "      <td>0.08530</td>\n",
              "      <td>0.000092</td>\n",
              "      <td>0.1110</td>\n",
              "      <td>0.415</td>\n",
              "      <td>193.513</td>\n",
              "      <td>6.812444e-07</td>\n",
              "    </tr>\n",
              "    <tr>\n",
              "      <th>277935</th>\n",
              "      <td>0.527</td>\n",
              "      <td>0.942</td>\n",
              "      <td>-5.640</td>\n",
              "      <td>0.0366</td>\n",
              "      <td>0.01150</td>\n",
              "      <td>0.000000</td>\n",
              "      <td>0.1880</td>\n",
              "      <td>0.495</td>\n",
              "      <td>148.723</td>\n",
              "      <td>1.516740e-07</td>\n",
              "    </tr>\n",
              "    <tr>\n",
              "      <th>277936</th>\n",
              "      <td>0.768</td>\n",
              "      <td>0.829</td>\n",
              "      <td>-5.109</td>\n",
              "      <td>0.0313</td>\n",
              "      <td>0.09640</td>\n",
              "      <td>0.000029</td>\n",
              "      <td>0.0970</td>\n",
              "      <td>0.962</td>\n",
              "      <td>118.773</td>\n",
              "      <td>1.335706e-07</td>\n",
              "    </tr>\n",
              "    <tr>\n",
              "      <th>277937</th>\n",
              "      <td>0.779</td>\n",
              "      <td>0.870</td>\n",
              "      <td>-13.141</td>\n",
              "      <td>0.0574</td>\n",
              "      <td>0.00644</td>\n",
              "      <td>0.010700</td>\n",
              "      <td>0.0399</td>\n",
              "      <td>0.555</td>\n",
              "      <td>102.689</td>\n",
              "      <td>2.372685e-07</td>\n",
              "    </tr>\n",
              "  </tbody>\n",
              "</table>\n",
              "<p>277938 rows × 10 columns</p>\n",
              "</div>\n",
              "      <button class=\"colab-df-convert\" onclick=\"convertToInteractive('df-36c9ea0f-e8f3-426f-98eb-73e840455a6b')\"\n",
              "              title=\"Convert this dataframe to an interactive table.\"\n",
              "              style=\"display:none;\">\n",
              "        \n",
              "  <svg xmlns=\"http://www.w3.org/2000/svg\" height=\"24px\"viewBox=\"0 0 24 24\"\n",
              "       width=\"24px\">\n",
              "    <path d=\"M0 0h24v24H0V0z\" fill=\"none\"/>\n",
              "    <path d=\"M18.56 5.44l.94 2.06.94-2.06 2.06-.94-2.06-.94-.94-2.06-.94 2.06-2.06.94zm-11 1L8.5 8.5l.94-2.06 2.06-.94-2.06-.94L8.5 2.5l-.94 2.06-2.06.94zm10 10l.94 2.06.94-2.06 2.06-.94-2.06-.94-.94-2.06-.94 2.06-2.06.94z\"/><path d=\"M17.41 7.96l-1.37-1.37c-.4-.4-.92-.59-1.43-.59-.52 0-1.04.2-1.43.59L10.3 9.45l-7.72 7.72c-.78.78-.78 2.05 0 2.83L4 21.41c.39.39.9.59 1.41.59.51 0 1.02-.2 1.41-.59l7.78-7.78 2.81-2.81c.8-.78.8-2.07 0-2.86zM5.41 20L4 18.59l7.72-7.72 1.47 1.35L5.41 20z\"/>\n",
              "  </svg>\n",
              "      </button>\n",
              "      \n",
              "  <style>\n",
              "    .colab-df-container {\n",
              "      display:flex;\n",
              "      flex-wrap:wrap;\n",
              "      gap: 12px;\n",
              "    }\n",
              "\n",
              "    .colab-df-convert {\n",
              "      background-color: #E8F0FE;\n",
              "      border: none;\n",
              "      border-radius: 50%;\n",
              "      cursor: pointer;\n",
              "      display: none;\n",
              "      fill: #1967D2;\n",
              "      height: 32px;\n",
              "      padding: 0 0 0 0;\n",
              "      width: 32px;\n",
              "    }\n",
              "\n",
              "    .colab-df-convert:hover {\n",
              "      background-color: #E2EBFA;\n",
              "      box-shadow: 0px 1px 2px rgba(60, 64, 67, 0.3), 0px 1px 3px 1px rgba(60, 64, 67, 0.15);\n",
              "      fill: #174EA6;\n",
              "    }\n",
              "\n",
              "    [theme=dark] .colab-df-convert {\n",
              "      background-color: #3B4455;\n",
              "      fill: #D2E3FC;\n",
              "    }\n",
              "\n",
              "    [theme=dark] .colab-df-convert:hover {\n",
              "      background-color: #434B5C;\n",
              "      box-shadow: 0px 1px 3px 1px rgba(0, 0, 0, 0.15);\n",
              "      filter: drop-shadow(0px 1px 2px rgba(0, 0, 0, 0.3));\n",
              "      fill: #FFFFFF;\n",
              "    }\n",
              "  </style>\n",
              "\n",
              "      <script>\n",
              "        const buttonEl =\n",
              "          document.querySelector('#df-36c9ea0f-e8f3-426f-98eb-73e840455a6b button.colab-df-convert');\n",
              "        buttonEl.style.display =\n",
              "          google.colab.kernel.accessAllowed ? 'block' : 'none';\n",
              "\n",
              "        async function convertToInteractive(key) {\n",
              "          const element = document.querySelector('#df-36c9ea0f-e8f3-426f-98eb-73e840455a6b');\n",
              "          const dataTable =\n",
              "            await google.colab.kernel.invokeFunction('convertToInteractive',\n",
              "                                                     [key], {});\n",
              "          if (!dataTable) return;\n",
              "\n",
              "          const docLinkHtml = 'Like what you see? Visit the ' +\n",
              "            '<a target=\"_blank\" href=https://colab.research.google.com/notebooks/data_table.ipynb>data table notebook</a>'\n",
              "            + ' to learn more about interactive tables.';\n",
              "          element.innerHTML = '';\n",
              "          dataTable['output_type'] = 'display_data';\n",
              "          await google.colab.output.renderOutput(dataTable, element);\n",
              "          const docLink = document.createElement('div');\n",
              "          docLink.innerHTML = docLinkHtml;\n",
              "          element.appendChild(docLink);\n",
              "        }\n",
              "      </script>\n",
              "    </div>\n",
              "  </div>\n",
              "  "
            ],
            "text/plain": [
              "        danceability  energy  loudness  speechiness  acousticness  \\\n",
              "0              0.611   0.614    -8.815       0.0672       0.01690   \n",
              "1              0.638   0.781    -6.848       0.0285       0.01180   \n",
              "2              0.560   0.810    -8.029       0.0872       0.00710   \n",
              "3              0.525   0.699    -4.571       0.0353       0.01780   \n",
              "4              0.367   0.771    -5.863       0.1060       0.36500   \n",
              "...              ...     ...       ...          ...           ...   \n",
              "277933         0.777   0.725    -9.012       0.0470       0.12600   \n",
              "277934         0.543   0.482   -12.789       0.1940       0.08530   \n",
              "277935         0.527   0.942    -5.640       0.0366       0.01150   \n",
              "277936         0.768   0.829    -5.109       0.0313       0.09640   \n",
              "277937         0.779   0.870   -13.141       0.0574       0.00644   \n",
              "\n",
              "        instrumentalness  liveness  valence    tempo     spec_rate  \n",
              "0               0.000794    0.7530    0.520  128.050  3.446154e-07  \n",
              "1               0.009530    0.3490    0.250  122.985  1.464234e-07  \n",
              "2               0.000008    0.2410    0.247  170.044  4.007850e-07  \n",
              "3               0.000088    0.0888    0.199   92.011  7.959809e-08  \n",
              "4               0.000001    0.0965    0.163  115.917  4.693131e-07  \n",
              "...                  ...       ...      ...      ...           ...  \n",
              "277933          0.010800    0.0917    0.851  128.349  1.700680e-07  \n",
              "277934          0.000092    0.1110    0.415  193.513  6.812444e-07  \n",
              "277935          0.000000    0.1880    0.495  148.723  1.516740e-07  \n",
              "277936          0.000029    0.0970    0.962  118.773  1.335706e-07  \n",
              "277937          0.010700    0.0399    0.555  102.689  2.372685e-07  \n",
              "\n",
              "[277938 rows x 10 columns]"
            ]
          },
          "execution_count": 30,
          "metadata": {},
          "output_type": "execute_result"
        }
      ],
      "source": [
        "X"
      ]
    },
    {
      "cell_type": "code",
      "execution_count": null,
      "metadata": {
        "colab": {
          "base_uri": "https://localhost:8080/",
          "height": 423
        },
        "id": "2oRBuAwvsPMe",
        "outputId": "a9e97efb-1b2d-4493-d3cc-9540307fc93b"
      },
      "outputs": [
        {
          "data": {
            "text/html": [
              "\n",
              "  <div id=\"df-07236c68-1653-4ebe-8f1d-7e8dbc27ac93\">\n",
              "    <div class=\"colab-df-container\">\n",
              "      <div>\n",
              "<style scoped>\n",
              "    .dataframe tbody tr th:only-of-type {\n",
              "        vertical-align: middle;\n",
              "    }\n",
              "\n",
              "    .dataframe tbody tr th {\n",
              "        vertical-align: top;\n",
              "    }\n",
              "\n",
              "    .dataframe thead th {\n",
              "        text-align: right;\n",
              "    }\n",
              "</style>\n",
              "<table border=\"1\" class=\"dataframe\">\n",
              "  <thead>\n",
              "    <tr style=\"text-align: right;\">\n",
              "      <th></th>\n",
              "      <th>labels</th>\n",
              "    </tr>\n",
              "  </thead>\n",
              "  <tbody>\n",
              "    <tr>\n",
              "      <th>0</th>\n",
              "      <td>2</td>\n",
              "    </tr>\n",
              "    <tr>\n",
              "      <th>1</th>\n",
              "      <td>1</td>\n",
              "    </tr>\n",
              "    <tr>\n",
              "      <th>2</th>\n",
              "      <td>1</td>\n",
              "    </tr>\n",
              "    <tr>\n",
              "      <th>3</th>\n",
              "      <td>0</td>\n",
              "    </tr>\n",
              "    <tr>\n",
              "      <th>4</th>\n",
              "      <td>1</td>\n",
              "    </tr>\n",
              "    <tr>\n",
              "      <th>...</th>\n",
              "      <td>...</td>\n",
              "    </tr>\n",
              "    <tr>\n",
              "      <th>277933</th>\n",
              "      <td>1</td>\n",
              "    </tr>\n",
              "    <tr>\n",
              "      <th>277934</th>\n",
              "      <td>1</td>\n",
              "    </tr>\n",
              "    <tr>\n",
              "      <th>277935</th>\n",
              "      <td>2</td>\n",
              "    </tr>\n",
              "    <tr>\n",
              "      <th>277936</th>\n",
              "      <td>1</td>\n",
              "    </tr>\n",
              "    <tr>\n",
              "      <th>277937</th>\n",
              "      <td>1</td>\n",
              "    </tr>\n",
              "  </tbody>\n",
              "</table>\n",
              "<p>277938 rows × 1 columns</p>\n",
              "</div>\n",
              "      <button class=\"colab-df-convert\" onclick=\"convertToInteractive('df-07236c68-1653-4ebe-8f1d-7e8dbc27ac93')\"\n",
              "              title=\"Convert this dataframe to an interactive table.\"\n",
              "              style=\"display:none;\">\n",
              "        \n",
              "  <svg xmlns=\"http://www.w3.org/2000/svg\" height=\"24px\"viewBox=\"0 0 24 24\"\n",
              "       width=\"24px\">\n",
              "    <path d=\"M0 0h24v24H0V0z\" fill=\"none\"/>\n",
              "    <path d=\"M18.56 5.44l.94 2.06.94-2.06 2.06-.94-2.06-.94-.94-2.06-.94 2.06-2.06.94zm-11 1L8.5 8.5l.94-2.06 2.06-.94-2.06-.94L8.5 2.5l-.94 2.06-2.06.94zm10 10l.94 2.06.94-2.06 2.06-.94-2.06-.94-.94-2.06-.94 2.06-2.06.94z\"/><path d=\"M17.41 7.96l-1.37-1.37c-.4-.4-.92-.59-1.43-.59-.52 0-1.04.2-1.43.59L10.3 9.45l-7.72 7.72c-.78.78-.78 2.05 0 2.83L4 21.41c.39.39.9.59 1.41.59.51 0 1.02-.2 1.41-.59l7.78-7.78 2.81-2.81c.8-.78.8-2.07 0-2.86zM5.41 20L4 18.59l7.72-7.72 1.47 1.35L5.41 20z\"/>\n",
              "  </svg>\n",
              "      </button>\n",
              "      \n",
              "  <style>\n",
              "    .colab-df-container {\n",
              "      display:flex;\n",
              "      flex-wrap:wrap;\n",
              "      gap: 12px;\n",
              "    }\n",
              "\n",
              "    .colab-df-convert {\n",
              "      background-color: #E8F0FE;\n",
              "      border: none;\n",
              "      border-radius: 50%;\n",
              "      cursor: pointer;\n",
              "      display: none;\n",
              "      fill: #1967D2;\n",
              "      height: 32px;\n",
              "      padding: 0 0 0 0;\n",
              "      width: 32px;\n",
              "    }\n",
              "\n",
              "    .colab-df-convert:hover {\n",
              "      background-color: #E2EBFA;\n",
              "      box-shadow: 0px 1px 2px rgba(60, 64, 67, 0.3), 0px 1px 3px 1px rgba(60, 64, 67, 0.15);\n",
              "      fill: #174EA6;\n",
              "    }\n",
              "\n",
              "    [theme=dark] .colab-df-convert {\n",
              "      background-color: #3B4455;\n",
              "      fill: #D2E3FC;\n",
              "    }\n",
              "\n",
              "    [theme=dark] .colab-df-convert:hover {\n",
              "      background-color: #434B5C;\n",
              "      box-shadow: 0px 1px 3px 1px rgba(0, 0, 0, 0.15);\n",
              "      filter: drop-shadow(0px 1px 2px rgba(0, 0, 0, 0.3));\n",
              "      fill: #FFFFFF;\n",
              "    }\n",
              "  </style>\n",
              "\n",
              "      <script>\n",
              "        const buttonEl =\n",
              "          document.querySelector('#df-07236c68-1653-4ebe-8f1d-7e8dbc27ac93 button.colab-df-convert');\n",
              "        buttonEl.style.display =\n",
              "          google.colab.kernel.accessAllowed ? 'block' : 'none';\n",
              "\n",
              "        async function convertToInteractive(key) {\n",
              "          const element = document.querySelector('#df-07236c68-1653-4ebe-8f1d-7e8dbc27ac93');\n",
              "          const dataTable =\n",
              "            await google.colab.kernel.invokeFunction('convertToInteractive',\n",
              "                                                     [key], {});\n",
              "          if (!dataTable) return;\n",
              "\n",
              "          const docLinkHtml = 'Like what you see? Visit the ' +\n",
              "            '<a target=\"_blank\" href=https://colab.research.google.com/notebooks/data_table.ipynb>data table notebook</a>'\n",
              "            + ' to learn more about interactive tables.';\n",
              "          element.innerHTML = '';\n",
              "          dataTable['output_type'] = 'display_data';\n",
              "          await google.colab.output.renderOutput(dataTable, element);\n",
              "          const docLink = document.createElement('div');\n",
              "          docLink.innerHTML = docLinkHtml;\n",
              "          element.appendChild(docLink);\n",
              "        }\n",
              "      </script>\n",
              "    </div>\n",
              "  </div>\n",
              "  "
            ],
            "text/plain": [
              "        labels\n",
              "0            2\n",
              "1            1\n",
              "2            1\n",
              "3            0\n",
              "4            1\n",
              "...        ...\n",
              "277933       1\n",
              "277934       1\n",
              "277935       2\n",
              "277936       1\n",
              "277937       1\n",
              "\n",
              "[277938 rows x 1 columns]"
            ]
          },
          "execution_count": 31,
          "metadata": {},
          "output_type": "execute_result"
        }
      ],
      "source": [
        "y"
      ]
    },
    {
      "cell_type": "markdown",
      "metadata": {
        "id": "EuVzwtsTQtmn"
      },
      "source": [
        "Scaling"
      ]
    },
    {
      "cell_type": "code",
      "execution_count": null,
      "metadata": {
        "colab": {
          "base_uri": "https://localhost:8080/"
        },
        "id": "SuOApbALgmXk",
        "outputId": "7f93a338-d2e5-480d-f4e4-0fc5b3e2a339"
      },
      "outputs": [
        {
          "data": {
            "text/plain": [
              "array([[0.61779575, 0.614     , 0.78889368, ..., 0.52      , 0.52276615,\n",
              "        0.00577065],\n",
              "       [0.64509606, 0.781     , 0.81921026, ..., 0.25      , 0.50208821,\n",
              "        0.00245189],\n",
              "       [0.56622851, 0.81      , 0.80100798, ..., 0.247     , 0.69420732,\n",
              "        0.00671123],\n",
              "       ...,\n",
              "       [0.53286148, 0.942     , 0.83782867, ..., 0.495     , 0.607164  ,\n",
              "        0.00253981],\n",
              "       [0.77654196, 0.829     , 0.84601276, ..., 0.962     , 0.48489265,\n",
              "        0.00223667],\n",
              "       [0.78766431, 0.87      , 0.7222188 , ..., 0.555     , 0.41922947,\n",
              "        0.00397311]])"
            ]
          },
          "execution_count": 32,
          "metadata": {},
          "output_type": "execute_result"
        }
      ],
      "source": [
        "mns=MinMaxScaler()\n",
        "X_sc=mns.fit_transform(X)\n",
        "X_sc"
      ]
    },
    {
      "cell_type": "code",
      "execution_count": null,
      "metadata": {
        "id": "P3Ix2ixNsTMv"
      },
      "outputs": [],
      "source": [
        "X_train,X_test,y_train,y_test = train_test_split(X,y,test_size=0.3,random_state=1)"
      ]
    },
    {
      "cell_type": "markdown",
      "metadata": {
        "id": "coALVvh4Oc8G"
      },
      "source": [
        "# Applying Machine Learning Models"
      ]
    },
    {
      "cell_type": "markdown",
      "metadata": {
        "id": "bi7XCv-iNwCF"
      },
      "source": [
        "# Applying Model to Train dataset"
      ]
    },
    {
      "cell_type": "code",
      "execution_count": null,
      "metadata": {
        "colab": {
          "background_save": true,
          "base_uri": "https://localhost:8080/"
        },
        "id": "8us2ykwGCdIf",
        "outputId": "33513fc1-a503-4242-b706-4b2baeae0acd"
      },
      "outputs": [
        {
          "name": "stdout",
          "output_type": "stream",
          "text": [
            "****************************** K-Neighbors Classifier ******************************\n",
            "Accuracy score : 75.96483653546329\n",
            "              precision    recall  f1-score   support\n",
            "\n",
            "           0       0.74      0.75      0.74     24650\n",
            "           1       0.75      0.77      0.76     31790\n",
            "           2       0.71      0.63      0.67     14042\n",
            "           3       0.87      0.90      0.89     12900\n",
            "\n",
            "    accuracy                           0.76     83382\n",
            "   macro avg       0.77      0.76      0.76     83382\n",
            "weighted avg       0.76      0.76      0.76     83382\n",
            "\n",
            "****************************** Naive-Bayes Classifier ******************************\n",
            "Accuracy score : 80.12400757957353\n",
            "              precision    recall  f1-score   support\n",
            "\n",
            "           0       0.84      0.75      0.79     24650\n",
            "           1       0.80      0.78      0.79     31790\n",
            "           2       0.67      0.83      0.74     14042\n",
            "           3       0.91      0.91      0.91     12900\n",
            "\n",
            "    accuracy                           0.80     83382\n",
            "   macro avg       0.81      0.82      0.81     83382\n",
            "weighted avg       0.81      0.80      0.80     83382\n",
            "\n",
            "****************************** Decision Tree Classifier ******************************\n",
            "Accuracy score : 88.85011153486364\n",
            "              precision    recall  f1-score   support\n",
            "\n",
            "           0       0.89      0.89      0.89     24650\n",
            "           1       0.89      0.89      0.89     31790\n",
            "           2       0.84      0.84      0.84     14042\n",
            "           3       0.94      0.94      0.94     12900\n",
            "\n",
            "    accuracy                           0.89     83382\n",
            "   macro avg       0.89      0.89      0.89     83382\n",
            "weighted avg       0.89      0.89      0.89     83382\n",
            "\n",
            "****************************** XGBoost Classifier ******************************\n",
            "Accuracy score : 96.36372358542611\n",
            "              precision    recall  f1-score   support\n",
            "\n",
            "           0       0.97      0.97      0.97     24650\n",
            "           1       0.95      0.97      0.96     31790\n",
            "           2       0.95      0.93      0.94     14042\n",
            "           3       0.98      0.99      0.98     12900\n",
            "\n",
            "    accuracy                           0.96     83382\n",
            "   macro avg       0.97      0.96      0.96     83382\n",
            "weighted avg       0.96      0.96      0.96     83382\n",
            "\n"
          ]
        }
      ],
      "source": [
        "knn=KNeighborsClassifier(n_neighbors=3)\n",
        "nb=GaussianNB()\n",
        "de=DecisionTreeClassifier()\n",
        "xg=XGBClassifier()\n",
        "\n",
        "lst=[knn,nb,de,xg]\n",
        "lst_name=['K-Neighbors Classifier','Naive-Bayes Classifier','Decision Tree Classifier','XGBoost Classifier']\n",
        "k=0\n",
        "\n",
        "for i in lst:\n",
        "  print('*'*30,lst_name[k],'*'*30)\n",
        "  k=k+1\n",
        "  i.fit(X_train,y_train)\n",
        "  y_pred=i.predict(X_test)\n",
        "  print('Accuracy score :',accuracy_score(y_test,y_pred)*100)\n",
        "  print(classification_report(y_test,y_pred))"
      ]
    },
    {
      "cell_type": "code",
      "execution_count": null,
      "metadata": {
        "colab": {
          "background_save": true
        },
        "id": "SNohtD4qgCs3",
        "outputId": "948bee0c-6a1d-45b6-a682-37dea174e0b0"
      },
      "outputs": [
        {
          "data": {
            "text/html": [
              "\n",
              "  <div id=\"df-cc0b7b65-7713-4081-be50-498c3a2432d1\">\n",
              "    <div class=\"colab-df-container\">\n",
              "      <div>\n",
              "<style scoped>\n",
              "    .dataframe tbody tr th:only-of-type {\n",
              "        vertical-align: middle;\n",
              "    }\n",
              "\n",
              "    .dataframe tbody tr th {\n",
              "        vertical-align: top;\n",
              "    }\n",
              "\n",
              "    .dataframe thead th {\n",
              "        text-align: right;\n",
              "    }\n",
              "</style>\n",
              "<table border=\"1\" class=\"dataframe\">\n",
              "  <thead>\n",
              "    <tr style=\"text-align: right;\">\n",
              "      <th></th>\n",
              "      <th>danceability</th>\n",
              "      <th>energy</th>\n",
              "      <th>loudness</th>\n",
              "      <th>speechiness</th>\n",
              "      <th>acousticness</th>\n",
              "      <th>instrumentalness</th>\n",
              "      <th>liveness</th>\n",
              "      <th>valence</th>\n",
              "      <th>tempo</th>\n",
              "      <th>spec_rate</th>\n",
              "    </tr>\n",
              "  </thead>\n",
              "  <tbody>\n",
              "    <tr>\n",
              "      <th>0</th>\n",
              "      <td>0.611</td>\n",
              "      <td>0.614</td>\n",
              "      <td>-8.815</td>\n",
              "      <td>0.0672</td>\n",
              "      <td>0.01690</td>\n",
              "      <td>0.000794</td>\n",
              "      <td>0.7530</td>\n",
              "      <td>0.520</td>\n",
              "      <td>128.050</td>\n",
              "      <td>3.446154e-07</td>\n",
              "    </tr>\n",
              "    <tr>\n",
              "      <th>1</th>\n",
              "      <td>0.638</td>\n",
              "      <td>0.781</td>\n",
              "      <td>-6.848</td>\n",
              "      <td>0.0285</td>\n",
              "      <td>0.01180</td>\n",
              "      <td>0.009530</td>\n",
              "      <td>0.3490</td>\n",
              "      <td>0.250</td>\n",
              "      <td>122.985</td>\n",
              "      <td>1.464234e-07</td>\n",
              "    </tr>\n",
              "    <tr>\n",
              "      <th>2</th>\n",
              "      <td>0.560</td>\n",
              "      <td>0.810</td>\n",
              "      <td>-8.029</td>\n",
              "      <td>0.0872</td>\n",
              "      <td>0.00710</td>\n",
              "      <td>0.000008</td>\n",
              "      <td>0.2410</td>\n",
              "      <td>0.247</td>\n",
              "      <td>170.044</td>\n",
              "      <td>4.007850e-07</td>\n",
              "    </tr>\n",
              "    <tr>\n",
              "      <th>3</th>\n",
              "      <td>0.525</td>\n",
              "      <td>0.699</td>\n",
              "      <td>-4.571</td>\n",
              "      <td>0.0353</td>\n",
              "      <td>0.01780</td>\n",
              "      <td>0.000088</td>\n",
              "      <td>0.0888</td>\n",
              "      <td>0.199</td>\n",
              "      <td>92.011</td>\n",
              "      <td>7.959809e-08</td>\n",
              "    </tr>\n",
              "    <tr>\n",
              "      <th>4</th>\n",
              "      <td>0.367</td>\n",
              "      <td>0.771</td>\n",
              "      <td>-5.863</td>\n",
              "      <td>0.1060</td>\n",
              "      <td>0.36500</td>\n",
              "      <td>0.000001</td>\n",
              "      <td>0.0965</td>\n",
              "      <td>0.163</td>\n",
              "      <td>115.917</td>\n",
              "      <td>4.693131e-07</td>\n",
              "    </tr>\n",
              "    <tr>\n",
              "      <th>...</th>\n",
              "      <td>...</td>\n",
              "      <td>...</td>\n",
              "      <td>...</td>\n",
              "      <td>...</td>\n",
              "      <td>...</td>\n",
              "      <td>...</td>\n",
              "      <td>...</td>\n",
              "      <td>...</td>\n",
              "      <td>...</td>\n",
              "      <td>...</td>\n",
              "    </tr>\n",
              "    <tr>\n",
              "      <th>277933</th>\n",
              "      <td>0.777</td>\n",
              "      <td>0.725</td>\n",
              "      <td>-9.012</td>\n",
              "      <td>0.0470</td>\n",
              "      <td>0.12600</td>\n",
              "      <td>0.010800</td>\n",
              "      <td>0.0917</td>\n",
              "      <td>0.851</td>\n",
              "      <td>128.349</td>\n",
              "      <td>1.700680e-07</td>\n",
              "    </tr>\n",
              "    <tr>\n",
              "      <th>277934</th>\n",
              "      <td>0.543</td>\n",
              "      <td>0.482</td>\n",
              "      <td>-12.789</td>\n",
              "      <td>0.1940</td>\n",
              "      <td>0.08530</td>\n",
              "      <td>0.000092</td>\n",
              "      <td>0.1110</td>\n",
              "      <td>0.415</td>\n",
              "      <td>193.513</td>\n",
              "      <td>6.812444e-07</td>\n",
              "    </tr>\n",
              "    <tr>\n",
              "      <th>277935</th>\n",
              "      <td>0.527</td>\n",
              "      <td>0.942</td>\n",
              "      <td>-5.640</td>\n",
              "      <td>0.0366</td>\n",
              "      <td>0.01150</td>\n",
              "      <td>0.000000</td>\n",
              "      <td>0.1880</td>\n",
              "      <td>0.495</td>\n",
              "      <td>148.723</td>\n",
              "      <td>1.516740e-07</td>\n",
              "    </tr>\n",
              "    <tr>\n",
              "      <th>277936</th>\n",
              "      <td>0.768</td>\n",
              "      <td>0.829</td>\n",
              "      <td>-5.109</td>\n",
              "      <td>0.0313</td>\n",
              "      <td>0.09640</td>\n",
              "      <td>0.000029</td>\n",
              "      <td>0.0970</td>\n",
              "      <td>0.962</td>\n",
              "      <td>118.773</td>\n",
              "      <td>1.335706e-07</td>\n",
              "    </tr>\n",
              "    <tr>\n",
              "      <th>277937</th>\n",
              "      <td>0.779</td>\n",
              "      <td>0.870</td>\n",
              "      <td>-13.141</td>\n",
              "      <td>0.0574</td>\n",
              "      <td>0.00644</td>\n",
              "      <td>0.010700</td>\n",
              "      <td>0.0399</td>\n",
              "      <td>0.555</td>\n",
              "      <td>102.689</td>\n",
              "      <td>2.372685e-07</td>\n",
              "    </tr>\n",
              "  </tbody>\n",
              "</table>\n",
              "<p>277938 rows × 10 columns</p>\n",
              "</div>\n",
              "      <button class=\"colab-df-convert\" onclick=\"convertToInteractive('df-cc0b7b65-7713-4081-be50-498c3a2432d1')\"\n",
              "              title=\"Convert this dataframe to an interactive table.\"\n",
              "              style=\"display:none;\">\n",
              "        \n",
              "  <svg xmlns=\"http://www.w3.org/2000/svg\" height=\"24px\"viewBox=\"0 0 24 24\"\n",
              "       width=\"24px\">\n",
              "    <path d=\"M0 0h24v24H0V0z\" fill=\"none\"/>\n",
              "    <path d=\"M18.56 5.44l.94 2.06.94-2.06 2.06-.94-2.06-.94-.94-2.06-.94 2.06-2.06.94zm-11 1L8.5 8.5l.94-2.06 2.06-.94-2.06-.94L8.5 2.5l-.94 2.06-2.06.94zm10 10l.94 2.06.94-2.06 2.06-.94-2.06-.94-.94-2.06-.94 2.06-2.06.94z\"/><path d=\"M17.41 7.96l-1.37-1.37c-.4-.4-.92-.59-1.43-.59-.52 0-1.04.2-1.43.59L10.3 9.45l-7.72 7.72c-.78.78-.78 2.05 0 2.83L4 21.41c.39.39.9.59 1.41.59.51 0 1.02-.2 1.41-.59l7.78-7.78 2.81-2.81c.8-.78.8-2.07 0-2.86zM5.41 20L4 18.59l7.72-7.72 1.47 1.35L5.41 20z\"/>\n",
              "  </svg>\n",
              "      </button>\n",
              "      \n",
              "  <style>\n",
              "    .colab-df-container {\n",
              "      display:flex;\n",
              "      flex-wrap:wrap;\n",
              "      gap: 12px;\n",
              "    }\n",
              "\n",
              "    .colab-df-convert {\n",
              "      background-color: #E8F0FE;\n",
              "      border: none;\n",
              "      border-radius: 50%;\n",
              "      cursor: pointer;\n",
              "      display: none;\n",
              "      fill: #1967D2;\n",
              "      height: 32px;\n",
              "      padding: 0 0 0 0;\n",
              "      width: 32px;\n",
              "    }\n",
              "\n",
              "    .colab-df-convert:hover {\n",
              "      background-color: #E2EBFA;\n",
              "      box-shadow: 0px 1px 2px rgba(60, 64, 67, 0.3), 0px 1px 3px 1px rgba(60, 64, 67, 0.15);\n",
              "      fill: #174EA6;\n",
              "    }\n",
              "\n",
              "    [theme=dark] .colab-df-convert {\n",
              "      background-color: #3B4455;\n",
              "      fill: #D2E3FC;\n",
              "    }\n",
              "\n",
              "    [theme=dark] .colab-df-convert:hover {\n",
              "      background-color: #434B5C;\n",
              "      box-shadow: 0px 1px 3px 1px rgba(0, 0, 0, 0.15);\n",
              "      filter: drop-shadow(0px 1px 2px rgba(0, 0, 0, 0.3));\n",
              "      fill: #FFFFFF;\n",
              "    }\n",
              "  </style>\n",
              "\n",
              "      <script>\n",
              "        const buttonEl =\n",
              "          document.querySelector('#df-cc0b7b65-7713-4081-be50-498c3a2432d1 button.colab-df-convert');\n",
              "        buttonEl.style.display =\n",
              "          google.colab.kernel.accessAllowed ? 'block' : 'none';\n",
              "\n",
              "        async function convertToInteractive(key) {\n",
              "          const element = document.querySelector('#df-cc0b7b65-7713-4081-be50-498c3a2432d1');\n",
              "          const dataTable =\n",
              "            await google.colab.kernel.invokeFunction('convertToInteractive',\n",
              "                                                     [key], {});\n",
              "          if (!dataTable) return;\n",
              "\n",
              "          const docLinkHtml = 'Like what you see? Visit the ' +\n",
              "            '<a target=\"_blank\" href=https://colab.research.google.com/notebooks/data_table.ipynb>data table notebook</a>'\n",
              "            + ' to learn more about interactive tables.';\n",
              "          element.innerHTML = '';\n",
              "          dataTable['output_type'] = 'display_data';\n",
              "          await google.colab.output.renderOutput(dataTable, element);\n",
              "          const docLink = document.createElement('div');\n",
              "          docLink.innerHTML = docLinkHtml;\n",
              "          element.appendChild(docLink);\n",
              "        }\n",
              "      </script>\n",
              "    </div>\n",
              "  </div>\n",
              "  "
            ],
            "text/plain": [
              "        danceability  energy  loudness  speechiness  acousticness  \\\n",
              "0              0.611   0.614    -8.815       0.0672       0.01690   \n",
              "1              0.638   0.781    -6.848       0.0285       0.01180   \n",
              "2              0.560   0.810    -8.029       0.0872       0.00710   \n",
              "3              0.525   0.699    -4.571       0.0353       0.01780   \n",
              "4              0.367   0.771    -5.863       0.1060       0.36500   \n",
              "...              ...     ...       ...          ...           ...   \n",
              "277933         0.777   0.725    -9.012       0.0470       0.12600   \n",
              "277934         0.543   0.482   -12.789       0.1940       0.08530   \n",
              "277935         0.527   0.942    -5.640       0.0366       0.01150   \n",
              "277936         0.768   0.829    -5.109       0.0313       0.09640   \n",
              "277937         0.779   0.870   -13.141       0.0574       0.00644   \n",
              "\n",
              "        instrumentalness  liveness  valence    tempo     spec_rate  \n",
              "0               0.000794    0.7530    0.520  128.050  3.446154e-07  \n",
              "1               0.009530    0.3490    0.250  122.985  1.464234e-07  \n",
              "2               0.000008    0.2410    0.247  170.044  4.007850e-07  \n",
              "3               0.000088    0.0888    0.199   92.011  7.959809e-08  \n",
              "4               0.000001    0.0965    0.163  115.917  4.693131e-07  \n",
              "...                  ...       ...      ...      ...           ...  \n",
              "277933          0.010800    0.0917    0.851  128.349  1.700680e-07  \n",
              "277934          0.000092    0.1110    0.415  193.513  6.812444e-07  \n",
              "277935          0.000000    0.1880    0.495  148.723  1.516740e-07  \n",
              "277936          0.000029    0.0970    0.962  118.773  1.335706e-07  \n",
              "277937          0.010700    0.0399    0.555  102.689  2.372685e-07  \n",
              "\n",
              "[277938 rows x 10 columns]"
            ]
          },
          "execution_count": 35,
          "metadata": {},
          "output_type": "execute_result"
        }
      ],
      "source": [
        "X_df1=df1.iloc[:,2:-1]\n",
        "X_df1"
      ]
    },
    {
      "cell_type": "code",
      "execution_count": null,
      "metadata": {
        "colab": {
          "background_save": true
        },
        "id": "xdp4O29RgnGB",
        "outputId": "6486a10e-3cce-465a-e921-f27c994b6bca"
      },
      "outputs": [
        {
          "data": {
            "text/plain": [
              "0         2\n",
              "1         1\n",
              "2         1\n",
              "3         0\n",
              "4         1\n",
              "         ..\n",
              "277933    1\n",
              "277934    1\n",
              "277935    2\n",
              "277936    1\n",
              "277937    1\n",
              "Name: labels, Length: 277938, dtype: int64"
            ]
          },
          "execution_count": 36,
          "metadata": {},
          "output_type": "execute_result"
        }
      ],
      "source": [
        "y_df1=df1.iloc[:,-1]\n",
        "y_df1"
      ]
    },
    {
      "cell_type": "markdown",
      "metadata": {
        "id": "gIR-goJROqls"
      },
      "source": [
        "# Applying Model to Test Dataset"
      ]
    },
    {
      "cell_type": "code",
      "execution_count": null,
      "metadata": {
        "colab": {
          "background_save": true
        },
        "id": "6zrgPP8ygrnL",
        "outputId": "92472ee7-c0d8-453e-e2ea-65a102fa6bad"
      },
      "outputs": [
        {
          "name": "stdout",
          "output_type": "stream",
          "text": [
            "****************************** K-Neighbors Classifier ******************************\n",
            "Accuracy score : 83.70895667379055\n",
            "              precision    recall  f1-score   support\n",
            "\n",
            "           0       0.82      0.83      0.82     82058\n",
            "           1       0.83      0.85      0.84    106429\n",
            "           2       0.82      0.74      0.78     47065\n",
            "           3       0.91      0.93      0.92     42386\n",
            "\n",
            "    accuracy                           0.84    277938\n",
            "   macro avg       0.84      0.84      0.84    277938\n",
            "weighted avg       0.84      0.84      0.84    277938\n",
            "\n",
            "****************************** Naive-Bayes Classifier ******************************\n",
            "Accuracy score : 80.10059797508798\n",
            "              precision    recall  f1-score   support\n",
            "\n",
            "           0       0.84      0.75      0.79     82058\n",
            "           1       0.80      0.78      0.79    106429\n",
            "           2       0.67      0.83      0.74     47065\n",
            "           3       0.90      0.91      0.91     42386\n",
            "\n",
            "    accuracy                           0.80    277938\n",
            "   macro avg       0.80      0.82      0.81    277938\n",
            "weighted avg       0.81      0.80      0.80    277938\n",
            "\n",
            "****************************** Decision Tree Classifier ******************************\n",
            "Accuracy score : 96.65500939058352\n",
            "              precision    recall  f1-score   support\n",
            "\n",
            "           0       0.97      0.97      0.97     82058\n",
            "           1       0.97      0.97      0.97    106429\n",
            "           2       0.95      0.95      0.95     47065\n",
            "           3       0.98      0.98      0.98     42386\n",
            "\n",
            "    accuracy                           0.97    277938\n",
            "   macro avg       0.97      0.97      0.97    277938\n",
            "weighted avg       0.97      0.97      0.97    277938\n",
            "\n",
            "****************************** XGBoost Classifier ******************************\n",
            "Accuracy score : 97.86355230303161\n",
            "              precision    recall  f1-score   support\n",
            "\n",
            "           0       0.99      0.98      0.99     82058\n",
            "           1       0.97      0.98      0.97    106429\n",
            "           2       0.96      0.95      0.96     47065\n",
            "           3       0.99      0.99      0.99     42386\n",
            "\n",
            "    accuracy                           0.98    277938\n",
            "   macro avg       0.98      0.98      0.98    277938\n",
            "weighted avg       0.98      0.98      0.98    277938\n",
            "\n"
          ]
        }
      ],
      "source": [
        "k=0\n",
        "\n",
        "for i in lst:\n",
        "  print('*'*30,lst_name[k],'*'*30)\n",
        "  k=k+1\n",
        "  y_pred=i.predict(X_df1)\n",
        "  print('Accuracy score :',accuracy_score(y_df1,y_pred)*100)\n",
        "  print(classification_report(y_df1,y_pred))"
      ]
    },
    {
      "cell_type": "code",
      "execution_count": null,
      "metadata": {
        "colab": {
          "background_save": true
        },
        "id": "EcXzHlCAjz8z",
        "outputId": "40fdcab5-e3a6-4249-f136-4ee0066d08c5"
      },
      "outputs": [
        {
          "data": {
            "text/plain": [
              "labels\n",
              "1         74639\n",
              "0         57408\n",
              "2         33023\n",
              "3         29486\n",
              "dtype: int64"
            ]
          },
          "execution_count": 38,
          "metadata": {},
          "output_type": "execute_result"
        }
      ],
      "source": [
        "y_train.value_counts()"
      ]
    },
    {
      "cell_type": "code",
      "execution_count": null,
      "metadata": {
        "colab": {
          "background_save": true
        },
        "id": "YWTCeFnVpJp7",
        "outputId": "0e6d0243-dfa8-4d58-df98-8e78af35e38b"
      },
      "outputs": [
        {
          "data": {
            "image/png": "[encoded data removed]",
            "text/plain": [
              "<Figure size 640x480 with 1 Axes>"
            ]
          },
          "metadata": {},
          "output_type": "display_data"
        }
      ],
      "source": [
        "a=[1,0,2,3]\n",
        "b=[74639,57408,33023,29486]\n",
        "plt.bar(a,b,color='grey')\n",
        "plt.xlabel('labels')\n",
        "plt.ylabel('value count')\n",
        "plt.title('Value count for each label')\n",
        "plt.show()"
      ]
    },
    {
      "cell_type": "markdown",
      "metadata": {
        "id": "Ug5md7qWiJS8"
      },
      "source": [
        "# **Over Sampling**"
      ]
    },
    {
      "cell_type": "code",
      "execution_count": null,
      "metadata": {
        "colab": {
          "background_save": true
        },
        "id": "BH77zh4PiHhB"
      },
      "outputs": [],
      "source": [
        "from imblearn.over_sampling import SMOTE"
      ]
    },
    {
      "cell_type": "code",
      "execution_count": null,
      "metadata": {
        "colab": {
          "background_save": true
        },
        "id": "6yozHqR_jDWd"
      },
      "outputs": [],
      "source": [
        "os=SMOTE(random_state=1)\n",
        "X_train_os,y_train_os=os.fit_resample(X_train,y_train)"
      ]
    },
    {
      "cell_type": "code",
      "execution_count": null,
      "metadata": {
        "colab": {
          "background_save": true
        },
        "id": "w2KRuLkjjIef",
        "outputId": "0f8bbeab-3faa-4455-8760-ceb6a8dca56a"
      },
      "outputs": [
        {
          "data": {
            "text/plain": [
              "labels\n",
              "0         74639\n",
              "1         74639\n",
              "2         74639\n",
              "3         74639\n",
              "dtype: int64"
            ]
          },
          "execution_count": 42,
          "metadata": {},
          "output_type": "execute_result"
        }
      ],
      "source": [
        "y_train_os.value_counts()"
      ]
    },
    {
      "cell_type": "code",
      "execution_count": null,
      "metadata": {
        "colab": {
          "background_save": true
        },
        "id": "Lqqjn64bjUof",
        "outputId": "4cda65c7-69e8-4559-95ab-450d9d69b6fa"
      },
      "outputs": [
        {
          "name": "stdout",
          "output_type": "stream",
          "text": [
            "******************** K-Neighbors Classifier ********************\n",
            "84.30585238434472\n",
            "              precision    recall  f1-score   support\n",
            "\n",
            "           0       0.84      0.84      0.84     82058\n",
            "           1       0.89      0.77      0.83    106429\n",
            "           2       0.74      0.89      0.81     47065\n",
            "           3       0.89      0.97      0.93     42386\n",
            "\n",
            "    accuracy                           0.84    277938\n",
            "   macro avg       0.84      0.87      0.85    277938\n",
            "weighted avg       0.85      0.84      0.84    277938\n",
            "\n",
            "******************** Naive-Bayes Classifier ********************\n",
            "77.9663090329498\n",
            "              precision    recall  f1-score   support\n",
            "\n",
            "           0       0.83      0.76      0.79     82058\n",
            "           1       0.82      0.70      0.76    106429\n",
            "           2       0.60      0.88      0.71     47065\n",
            "           3       0.90      0.91      0.90     42386\n",
            "\n",
            "    accuracy                           0.78    277938\n",
            "   macro avg       0.79      0.81      0.79    277938\n",
            "weighted avg       0.80      0.78      0.78    277938\n",
            "\n",
            "******************** Decision Tree Classifier ********************\n",
            "96.51145219437429\n",
            "              precision    recall  f1-score   support\n",
            "\n",
            "           0       0.97      0.97      0.97     82058\n",
            "           1       0.97      0.96      0.96    106429\n",
            "           2       0.94      0.96      0.95     47065\n",
            "           3       0.98      0.98      0.98     42386\n",
            "\n",
            "    accuracy                           0.97    277938\n",
            "   macro avg       0.96      0.97      0.97    277938\n",
            "weighted avg       0.97      0.97      0.97    277938\n",
            "\n",
            "******************** XGBoost Classifier ********************\n",
            "97.18822183364635\n",
            "              precision    recall  f1-score   support\n",
            "\n",
            "           0       0.98      0.98      0.98     82058\n",
            "           1       0.98      0.96      0.97    106429\n",
            "           2       0.92      0.97      0.95     47065\n",
            "           3       0.99      1.00      0.99     42386\n",
            "\n",
            "    accuracy                           0.97    277938\n",
            "   macro avg       0.97      0.98      0.97    277938\n",
            "weighted avg       0.97      0.97      0.97    277938\n",
            "\n"
          ]
        }
      ],
      "source": [
        "knn_os=KNeighborsClassifier(n_neighbors=3)\n",
        "nb_os=GaussianNB()\n",
        "de_os=DecisionTreeClassifier()\n",
        "xg_os=XGBClassifier()\n",
        "\n",
        "lst=[knn_os,nb_os,de_os,xg_os]\n",
        "k=0\n",
        "\n",
        "for i in lst:\n",
        "  print('*'*20,lst_name[k],'*'*20)\n",
        "  k=k+1\n",
        "  i.fit(X_train_os,y_train_os)\n",
        "  y_pred_os=i.predict(X_df1)\n",
        "  print(accuracy_score(y_df1,y_pred_os)*100)\n",
        "  print(classification_report(y_df1,y_pred_os))"
      ]
    },
    {
      "cell_type": "markdown",
      "metadata": {
        "id": "iD4p5-3snRx8"
      },
      "source": [
        "# **Under Sampling**"
      ]
    },
    {
      "cell_type": "code",
      "execution_count": null,
      "metadata": {
        "colab": {
          "background_save": true
        },
        "id": "GDR8vJMDnU-x"
      },
      "outputs": [],
      "source": [
        "from imblearn.under_sampling import RandomUnderSampler"
      ]
    },
    {
      "cell_type": "code",
      "execution_count": null,
      "metadata": {
        "colab": {
          "background_save": true
        },
        "id": "p6crzsz7nvCL"
      },
      "outputs": [],
      "source": [
        "us=RandomUnderSampler(random_state=1)\n",
        "X_train_us,y_train_us=us.fit_resample(X_train,y_train)"
      ]
    },
    {
      "cell_type": "code",
      "execution_count": null,
      "metadata": {
        "colab": {
          "background_save": true
        },
        "id": "C7OfAEkgn2rh",
        "outputId": "06ef2214-66f1-4027-a832-f86c6a534f3f"
      },
      "outputs": [
        {
          "name": "stdout",
          "output_type": "stream",
          "text": [
            "******************** K-Neighbors Classifier ********************\n",
            "76.60629348991502\n",
            "              precision    recall  f1-score   support\n",
            "\n",
            "           0       0.77      0.75      0.76     82058\n",
            "           1       0.81      0.68      0.74    106429\n",
            "           2       0.64      0.81      0.72     47065\n",
            "           3       0.82      0.95      0.88     42386\n",
            "\n",
            "    accuracy                           0.77    277938\n",
            "   macro avg       0.76      0.80      0.78    277938\n",
            "weighted avg       0.77      0.77      0.76    277938\n",
            "\n",
            "******************** Naive-Bayes Classifier ********************\n",
            "78.29587893702912\n",
            "              precision    recall  f1-score   support\n",
            "\n",
            "           0       0.84      0.75      0.80     82058\n",
            "           1       0.82      0.70      0.76    106429\n",
            "           2       0.60      0.88      0.71     47065\n",
            "           3       0.89      0.93      0.91     42386\n",
            "\n",
            "    accuracy                           0.78    277938\n",
            "   macro avg       0.79      0.82      0.79    277938\n",
            "weighted avg       0.80      0.78      0.78    277938\n",
            "\n",
            "******************** Decision Tree Classifier ********************\n",
            "92.2835308594003\n",
            "              precision    recall  f1-score   support\n",
            "\n",
            "           0       0.93      0.92      0.92     82058\n",
            "           1       0.95      0.88      0.91    106429\n",
            "           2       0.85      0.96      0.90     47065\n",
            "           3       0.95      0.99      0.97     42386\n",
            "\n",
            "    accuracy                           0.92    277938\n",
            "   macro avg       0.92      0.94      0.93    277938\n",
            "weighted avg       0.93      0.92      0.92    277938\n",
            "\n",
            "******************** XGBoost Classifier ********************\n",
            "96.81295828566083\n",
            "              precision    recall  f1-score   support\n",
            "\n",
            "           0       0.98      0.98      0.98     82058\n",
            "           1       0.98      0.94      0.96    106429\n",
            "           2       0.91      0.98      0.95     47065\n",
            "           3       0.98      1.00      0.99     42386\n",
            "\n",
            "    accuracy                           0.97    277938\n",
            "   macro avg       0.96      0.97      0.97    277938\n",
            "weighted avg       0.97      0.97      0.97    277938\n",
            "\n"
          ]
        }
      ],
      "source": [
        "knn_us=KNeighborsClassifier()\n",
        "nb_us=GaussianNB()\n",
        "de_us=DecisionTreeClassifier()\n",
        "xg_us=XGBClassifier()\n",
        "\n",
        "lst=[knn_us,nb_us,de_us,xg_us]\n",
        "k=0\n",
        "\n",
        "for i in lst:\n",
        "  print('*'*20,lst_name[k],'*'*20)\n",
        "  k=k+1\n",
        "  i.fit(X_train_us,y_train_us)\n",
        "  y_pred_us=i.predict(X_df1)\n",
        "  print(accuracy_score(y_df1,y_pred_us)*100)\n",
        "  print(classification_report(y_df1,y_pred_us))"
      ]
    },
    {
      "cell_type": "code",
      "execution_count": null,
      "metadata": {
        "colab": {
          "background_save": true
        },
        "id": "-dh6UzXMoXe-",
        "outputId": "8fe10352-ca40-4a60-edd1-fe9543994907"
      },
      "outputs": [
        {
          "data": {
            "text/plain": [
              "labels\n",
              "0         29486\n",
              "1         29486\n",
              "2         29486\n",
              "3         29486\n",
              "dtype: int64"
            ]
          },
          "execution_count": 47,
          "metadata": {},
          "output_type": "execute_result"
        }
      ],
      "source": [
        "y_train_us.value_counts()"
      ]
    },
    {
      "cell_type": "markdown",
      "metadata": {
        "id": "eBwry3DbtO2Y"
      },
      "source": [
        "# **PCA**"
      ]
    },
    {
      "cell_type": "code",
      "execution_count": null,
      "metadata": {
        "colab": {
          "background_save": true
        },
        "id": "YO_2p9T5tOdM"
      },
      "outputs": [],
      "source": [
        "from sklearn.decomposition import PCA"
      ]
    },
    {
      "cell_type": "code",
      "execution_count": null,
      "metadata": {
        "colab": {
          "background_save": true
        },
        "id": "eyrhgGZCtXhV"
      },
      "outputs": [],
      "source": [
        "pca=PCA(n_components=9,random_state=1)\n",
        "X_train_pca=pca.fit_transform(X_train)\n",
        "X_df1_pca=pca.transform(X_df1)"
      ]
    },
    {
      "cell_type": "code",
      "execution_count": null,
      "metadata": {
        "colab": {
          "background_save": true
        },
        "id": "3HjPo76stzzU",
        "outputId": "223d541e-348c-485b-c188-1341bd8bd0ad"
      },
      "outputs": [
        {
          "data": {
            "text/plain": [
              "array([[ 6.13392399e-01, -7.36945534e-01,  5.72086341e-02, ...,\n",
              "         2.46470523e-01, -1.86285547e-01, -2.27590656e-03],\n",
              "       [-3.69305109e+01, -7.68800608e+00, -3.16470109e-01, ...,\n",
              "        -8.22934028e-02, -1.00094039e-02, -2.97916972e-02],\n",
              "       [-2.22529714e+01, -2.30459250e-01, -2.84754023e-01, ...,\n",
              "         4.50270412e-02, -4.76134707e-02, -7.71893148e-02],\n",
              "       ...,\n",
              "       [-2.80485910e+01, -4.24353243e+00, -1.71857227e-01, ...,\n",
              "         2.05374281e-01, -1.74922762e-01,  4.27593726e-01],\n",
              "       [-1.54730889e+00, -4.30260392e+00, -2.44939213e-01, ...,\n",
              "        -8.05425623e-02,  3.18676536e-02, -1.33569773e-01],\n",
              "       [-2.13531702e+01,  2.16970228e+00, -3.30126691e-01, ...,\n",
              "        -1.59695897e-01, -4.61188147e-02, -2.38540701e-03]])"
            ]
          },
          "execution_count": 50,
          "metadata": {},
          "output_type": "execute_result"
        }
      ],
      "source": [
        "X_train_pca"
      ]
    },
    {
      "cell_type": "code",
      "execution_count": null,
      "metadata": {
        "colab": {
          "background_save": true
        },
        "id": "NHJDJnvDt836",
        "outputId": "8d083697-627d-4f69-ffdb-e1d71da15595"
      },
      "outputs": [
        {
          "data": {
            "text/plain": [
              "array([9.56795961e-01, 4.28675848e-02, 1.08231376e-04, 8.70221039e-05,\n",
              "       6.43380772e-05, 3.15792439e-05, 2.15744282e-05, 1.38937084e-05,\n",
              "       9.81542957e-06])"
            ]
          },
          "execution_count": 51,
          "metadata": {},
          "output_type": "execute_result"
        }
      ],
      "source": [
        "pca.explained_variance_ratio_"
      ]
    },
    {
      "cell_type": "code",
      "execution_count": null,
      "metadata": {
        "colab": {
          "background_save": true
        },
        "id": "0p4EIwo3ufJr",
        "outputId": "2cd97d40-47ff-4db4-919e-27c8487512db"
      },
      "outputs": [
        {
          "name": "stdout",
          "output_type": "stream",
          "text": [
            "****************************** K-Neighbors Classifier ******************************\n",
            "Accuracy score : 83.70895667379055\n",
            "              precision    recall  f1-score   support\n",
            "\n",
            "           0       0.82      0.83      0.82     82058\n",
            "           1       0.83      0.85      0.84    106429\n",
            "           2       0.82      0.74      0.78     47065\n",
            "           3       0.91      0.93      0.92     42386\n",
            "\n",
            "    accuracy                           0.84    277938\n",
            "   macro avg       0.84      0.84      0.84    277938\n",
            "weighted avg       0.84      0.84      0.84    277938\n",
            "\n",
            "****************************** Naive-Bayes Classifier ******************************\n",
            "Accuracy score : 77.59896091934172\n",
            "              precision    recall  f1-score   support\n",
            "\n",
            "           0       0.83      0.69      0.75     82058\n",
            "           1       0.74      0.83      0.78    106429\n",
            "           2       0.70      0.68      0.69     47065\n",
            "           3       0.86      0.91      0.89     42386\n",
            "\n",
            "    accuracy                           0.78    277938\n",
            "   macro avg       0.78      0.78      0.78    277938\n",
            "weighted avg       0.78      0.78      0.77    277938\n",
            "\n",
            "****************************** Decision Tree Classifier ******************************\n",
            "Accuracy score : 93.80725197705964\n",
            "              precision    recall  f1-score   support\n",
            "\n",
            "           0       0.93      0.94      0.93     82058\n",
            "           1       0.94      0.94      0.94    106429\n",
            "           2       0.92      0.92      0.92     47065\n",
            "           3       0.97      0.97      0.97     42386\n",
            "\n",
            "    accuracy                           0.94    277938\n",
            "   macro avg       0.94      0.94      0.94    277938\n",
            "weighted avg       0.94      0.94      0.94    277938\n",
            "\n",
            "****************************** XGBoost Classifier ******************************\n",
            "Accuracy score : 89.87651922371175\n",
            "              precision    recall  f1-score   support\n",
            "\n",
            "           0       0.92      0.88      0.90     82058\n",
            "           1       0.88      0.91      0.89    106429\n",
            "           2       0.87      0.85      0.86     47065\n",
            "           3       0.96      0.97      0.96     42386\n",
            "\n",
            "    accuracy                           0.90    277938\n",
            "   macro avg       0.90      0.90      0.90    277938\n",
            "weighted avg       0.90      0.90      0.90    277938\n",
            "\n"
          ]
        }
      ],
      "source": [
        "knn_pca=KNeighborsClassifier(n_neighbors=3)\n",
        "nb_pca=GaussianNB()\n",
        "de_pca=DecisionTreeClassifier()\n",
        "xg_pca=XGBClassifier()\n",
        "\n",
        "lst=[knn_pca,nb_pca,de_pca,xg_pca]\n",
        "k=0\n",
        "\n",
        "for i in lst:\n",
        "  print('*'*30,lst_name[k],'*'*30)\n",
        "  k=k+1\n",
        "  i.fit(X_train_pca,y_train)\n",
        "  y_pred_pca=i.predict(X_df1_pca)\n",
        "  print('Accuracy score :',accuracy_score(y_df1,y_pred_pca)*100)\n",
        "  print(classification_report(y_df1,y_pred_pca))"
      ]
    },
    {
      "cell_type": "markdown",
      "metadata": {
        "id": "xvQv2QLm7QLh"
      },
      "source": [
        "# Accuracy score Comparison"
      ]
    },
    {
      "cell_type": "code",
      "execution_count": null,
      "metadata": {
        "colab": {
          "background_save": true
        },
        "id": "RXrIoQl7trVw",
        "outputId": "5b10103e-c98a-4856-9adf-09ec217e8f2b"
      },
      "outputs": [
        {
          "name": "stdout",
          "output_type": "stream",
          "text": [
            "knn=0,nb=1,de=2,xg=3\n"
          ]
        },
        {
          "data": {
            "image/png": "[encoded data removed]",
            "text/plain": [
              "<Figure size 1100x1100 with 4 Axes>"
            ]
          },
          "metadata": {},
          "output_type": "display_data"
        }
      ],
      "source": [
        "\n",
        "print('knn=0,nb=1,de=2,xg=3')\n",
        "plt.figure(figsize=(11,11))\n",
        "\n",
        "\n",
        "c=[0,1,2,3]\n",
        "d=[83.7,80.1,96.6,97.8]\n",
        "plt.subplot(2,2,1)\n",
        "plt.bar(c,d,color='brown')\n",
        "plt.xlabel('Model')\n",
        "plt.ylabel('Accuracy score')\n",
        "plt.title('without-sampling')\n",
        "\n",
        "\n",
        "c1=[0,1,2,3]\n",
        "d1=[84.3,77.9,96.4,97.1]\n",
        "plt.subplot(2,2,2)\n",
        "plt.bar(c1,d1,color='grey')\n",
        "plt.xlabel('Model')\n",
        "plt.ylabel('Accuracy score')\n",
        "plt.title('oversampling')\n",
        "\n",
        "\n",
        "c2=[0,1,2,3]\n",
        "d2=[76.6,78.2,92.2,96.8]\n",
        "plt.subplot(2,2,3)\n",
        "plt.bar(c2,d2,color='orange')\n",
        "plt.xlabel('Model')\n",
        "plt.ylabel('Accuracy score')\n",
        "plt.title('undersampling')\n",
        "\n",
        "\n",
        "c3=[0,1,2,3]\n",
        "d3=[67.5,55.5,84.9,89.8]\n",
        "plt.subplot(2,2,4)\n",
        "plt.bar(c3,d3,color='black')\n",
        "plt.xlabel('Model')\n",
        "plt.ylabel('Accuracy score')\n",
        "plt.title('pca')\n",
        "\n",
        "plt.suptitle('Accuracy score Comparison')\n",
        "plt.show()"
      ]
    },
    {
      "cell_type": "code",
      "execution_count": null,
      "metadata": {
        "colab": {
          "background_save": true
        },
        "id": "Mrt0-QmDSi_X"
      },
      "outputs": [],
      "source": []
    }
  ],
  "metadata": {
    "accelerator": "GPU",
    "colab": {
      "provenance": []
    },
    "kernelspec": {
      "display_name": "Python 3",
      "name": "python3"
    },
    "language_info": {
      "name": "python"
    }
  },
  "nbformat": 4,
  "nbformat_minor": 0
}